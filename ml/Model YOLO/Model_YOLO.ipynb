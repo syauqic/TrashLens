{
  "cells": [
    {
      "cell_type": "code",
      "execution_count": 1,
      "metadata": {
        "colab": {
          "base_uri": "https://localhost:8080/"
        },
        "collapsed": true,
        "id": "ytZ72tfW_d7_",
        "outputId": "63594550-a79d-4723-b6a3-07e05838bd9d"
      },
      "outputs": [
        {
          "output_type": "stream",
          "name": "stdout",
          "text": [
            "Requirement already satisfied: tensorflow in /usr/local/lib/python3.11/dist-packages (2.18.0)\n",
            "Requirement already satisfied: absl-py>=1.0.0 in /usr/local/lib/python3.11/dist-packages (from tensorflow) (1.4.0)\n",
            "Requirement already satisfied: astunparse>=1.6.0 in /usr/local/lib/python3.11/dist-packages (from tensorflow) (1.6.3)\n",
            "Requirement already satisfied: flatbuffers>=24.3.25 in /usr/local/lib/python3.11/dist-packages (from tensorflow) (25.2.10)\n",
            "Requirement already satisfied: gast!=0.5.0,!=0.5.1,!=0.5.2,>=0.2.1 in /usr/local/lib/python3.11/dist-packages (from tensorflow) (0.6.0)\n",
            "Requirement already satisfied: google-pasta>=0.1.1 in /usr/local/lib/python3.11/dist-packages (from tensorflow) (0.2.0)\n",
            "Requirement already satisfied: libclang>=13.0.0 in /usr/local/lib/python3.11/dist-packages (from tensorflow) (18.1.1)\n",
            "Requirement already satisfied: opt-einsum>=2.3.2 in /usr/local/lib/python3.11/dist-packages (from tensorflow) (3.4.0)\n",
            "Requirement already satisfied: packaging in /usr/local/lib/python3.11/dist-packages (from tensorflow) (24.2)\n",
            "Requirement already satisfied: protobuf!=4.21.0,!=4.21.1,!=4.21.2,!=4.21.3,!=4.21.4,!=4.21.5,<6.0.0dev,>=3.20.3 in /usr/local/lib/python3.11/dist-packages (from tensorflow) (5.29.5)\n",
            "Requirement already satisfied: requests<3,>=2.21.0 in /usr/local/lib/python3.11/dist-packages (from tensorflow) (2.32.3)\n",
            "Requirement already satisfied: setuptools in /usr/local/lib/python3.11/dist-packages (from tensorflow) (75.2.0)\n",
            "Requirement already satisfied: six>=1.12.0 in /usr/local/lib/python3.11/dist-packages (from tensorflow) (1.17.0)\n",
            "Requirement already satisfied: termcolor>=1.1.0 in /usr/local/lib/python3.11/dist-packages (from tensorflow) (3.1.0)\n",
            "Requirement already satisfied: typing-extensions>=3.6.6 in /usr/local/lib/python3.11/dist-packages (from tensorflow) (4.14.0)\n",
            "Requirement already satisfied: wrapt>=1.11.0 in /usr/local/lib/python3.11/dist-packages (from tensorflow) (1.17.2)\n",
            "Requirement already satisfied: grpcio<2.0,>=1.24.3 in /usr/local/lib/python3.11/dist-packages (from tensorflow) (1.72.1)\n",
            "Requirement already satisfied: tensorboard<2.19,>=2.18 in /usr/local/lib/python3.11/dist-packages (from tensorflow) (2.18.0)\n",
            "Requirement already satisfied: keras>=3.5.0 in /usr/local/lib/python3.11/dist-packages (from tensorflow) (3.8.0)\n",
            "Requirement already satisfied: numpy<2.1.0,>=1.26.0 in /usr/local/lib/python3.11/dist-packages (from tensorflow) (2.0.2)\n",
            "Requirement already satisfied: h5py>=3.11.0 in /usr/local/lib/python3.11/dist-packages (from tensorflow) (3.13.0)\n",
            "Requirement already satisfied: ml-dtypes<0.5.0,>=0.4.0 in /usr/local/lib/python3.11/dist-packages (from tensorflow) (0.4.1)\n",
            "Requirement already satisfied: tensorflow-io-gcs-filesystem>=0.23.1 in /usr/local/lib/python3.11/dist-packages (from tensorflow) (0.37.1)\n",
            "Requirement already satisfied: wheel<1.0,>=0.23.0 in /usr/local/lib/python3.11/dist-packages (from astunparse>=1.6.0->tensorflow) (0.45.1)\n",
            "Requirement already satisfied: rich in /usr/local/lib/python3.11/dist-packages (from keras>=3.5.0->tensorflow) (13.9.4)\n",
            "Requirement already satisfied: namex in /usr/local/lib/python3.11/dist-packages (from keras>=3.5.0->tensorflow) (0.1.0)\n",
            "Requirement already satisfied: optree in /usr/local/lib/python3.11/dist-packages (from keras>=3.5.0->tensorflow) (0.16.0)\n",
            "Requirement already satisfied: charset-normalizer<4,>=2 in /usr/local/lib/python3.11/dist-packages (from requests<3,>=2.21.0->tensorflow) (3.4.2)\n",
            "Requirement already satisfied: idna<4,>=2.5 in /usr/local/lib/python3.11/dist-packages (from requests<3,>=2.21.0->tensorflow) (3.10)\n",
            "Requirement already satisfied: urllib3<3,>=1.21.1 in /usr/local/lib/python3.11/dist-packages (from requests<3,>=2.21.0->tensorflow) (2.4.0)\n",
            "Requirement already satisfied: certifi>=2017.4.17 in /usr/local/lib/python3.11/dist-packages (from requests<3,>=2.21.0->tensorflow) (2025.4.26)\n",
            "Requirement already satisfied: markdown>=2.6.8 in /usr/local/lib/python3.11/dist-packages (from tensorboard<2.19,>=2.18->tensorflow) (3.8)\n",
            "Requirement already satisfied: tensorboard-data-server<0.8.0,>=0.7.0 in /usr/local/lib/python3.11/dist-packages (from tensorboard<2.19,>=2.18->tensorflow) (0.7.2)\n",
            "Requirement already satisfied: werkzeug>=1.0.1 in /usr/local/lib/python3.11/dist-packages (from tensorboard<2.19,>=2.18->tensorflow) (3.1.3)\n",
            "Requirement already satisfied: MarkupSafe>=2.1.1 in /usr/local/lib/python3.11/dist-packages (from werkzeug>=1.0.1->tensorboard<2.19,>=2.18->tensorflow) (3.0.2)\n",
            "Requirement already satisfied: markdown-it-py>=2.2.0 in /usr/local/lib/python3.11/dist-packages (from rich->keras>=3.5.0->tensorflow) (3.0.0)\n",
            "Requirement already satisfied: pygments<3.0.0,>=2.13.0 in /usr/local/lib/python3.11/dist-packages (from rich->keras>=3.5.0->tensorflow) (2.19.1)\n",
            "Requirement already satisfied: mdurl~=0.1 in /usr/local/lib/python3.11/dist-packages (from markdown-it-py>=2.2.0->rich->keras>=3.5.0->tensorflow) (0.1.2)\n"
          ]
        }
      ],
      "source": [
        "!pip install tensorflow"
      ]
    },
    {
      "cell_type": "code",
      "execution_count": 2,
      "metadata": {
        "colab": {
          "base_uri": "https://localhost:8080/"
        },
        "collapsed": true,
        "id": "DfBdihvqWofu",
        "outputId": "d12893fb-d014-413a-d993-6b91a9779781"
      },
      "outputs": [
        {
          "output_type": "stream",
          "name": "stdout",
          "text": [
            "Collecting ultralytics\n",
            "  Downloading ultralytics-8.3.153-py3-none-any.whl.metadata (37 kB)\n",
            "Requirement already satisfied: numpy>=1.23.0 in /usr/local/lib/python3.11/dist-packages (from ultralytics) (2.0.2)\n",
            "Requirement already satisfied: matplotlib>=3.3.0 in /usr/local/lib/python3.11/dist-packages (from ultralytics) (3.10.0)\n",
            "Requirement already satisfied: opencv-python>=4.6.0 in /usr/local/lib/python3.11/dist-packages (from ultralytics) (4.11.0.86)\n",
            "Requirement already satisfied: pillow>=7.1.2 in /usr/local/lib/python3.11/dist-packages (from ultralytics) (11.2.1)\n",
            "Requirement already satisfied: pyyaml>=5.3.1 in /usr/local/lib/python3.11/dist-packages (from ultralytics) (6.0.2)\n",
            "Requirement already satisfied: requests>=2.23.0 in /usr/local/lib/python3.11/dist-packages (from ultralytics) (2.32.3)\n",
            "Requirement already satisfied: scipy>=1.4.1 in /usr/local/lib/python3.11/dist-packages (from ultralytics) (1.15.3)\n",
            "Requirement already satisfied: torch>=1.8.0 in /usr/local/lib/python3.11/dist-packages (from ultralytics) (2.6.0+cu124)\n",
            "Requirement already satisfied: torchvision>=0.9.0 in /usr/local/lib/python3.11/dist-packages (from ultralytics) (0.21.0+cu124)\n",
            "Requirement already satisfied: tqdm>=4.64.0 in /usr/local/lib/python3.11/dist-packages (from ultralytics) (4.67.1)\n",
            "Requirement already satisfied: psutil in /usr/local/lib/python3.11/dist-packages (from ultralytics) (5.9.5)\n",
            "Requirement already satisfied: py-cpuinfo in /usr/local/lib/python3.11/dist-packages (from ultralytics) (9.0.0)\n",
            "Requirement already satisfied: pandas>=1.1.4 in /usr/local/lib/python3.11/dist-packages (from ultralytics) (2.2.2)\n",
            "Collecting ultralytics-thop>=2.0.0 (from ultralytics)\n",
            "  Downloading ultralytics_thop-2.0.14-py3-none-any.whl.metadata (9.4 kB)\n",
            "Requirement already satisfied: contourpy>=1.0.1 in /usr/local/lib/python3.11/dist-packages (from matplotlib>=3.3.0->ultralytics) (1.3.2)\n",
            "Requirement already satisfied: cycler>=0.10 in /usr/local/lib/python3.11/dist-packages (from matplotlib>=3.3.0->ultralytics) (0.12.1)\n",
            "Requirement already satisfied: fonttools>=4.22.0 in /usr/local/lib/python3.11/dist-packages (from matplotlib>=3.3.0->ultralytics) (4.58.1)\n",
            "Requirement already satisfied: kiwisolver>=1.3.1 in /usr/local/lib/python3.11/dist-packages (from matplotlib>=3.3.0->ultralytics) (1.4.8)\n",
            "Requirement already satisfied: packaging>=20.0 in /usr/local/lib/python3.11/dist-packages (from matplotlib>=3.3.0->ultralytics) (24.2)\n",
            "Requirement already satisfied: pyparsing>=2.3.1 in /usr/local/lib/python3.11/dist-packages (from matplotlib>=3.3.0->ultralytics) (3.2.3)\n",
            "Requirement already satisfied: python-dateutil>=2.7 in /usr/local/lib/python3.11/dist-packages (from matplotlib>=3.3.0->ultralytics) (2.9.0.post0)\n",
            "Requirement already satisfied: pytz>=2020.1 in /usr/local/lib/python3.11/dist-packages (from pandas>=1.1.4->ultralytics) (2025.2)\n",
            "Requirement already satisfied: tzdata>=2022.7 in /usr/local/lib/python3.11/dist-packages (from pandas>=1.1.4->ultralytics) (2025.2)\n",
            "Requirement already satisfied: charset-normalizer<4,>=2 in /usr/local/lib/python3.11/dist-packages (from requests>=2.23.0->ultralytics) (3.4.2)\n",
            "Requirement already satisfied: idna<4,>=2.5 in /usr/local/lib/python3.11/dist-packages (from requests>=2.23.0->ultralytics) (3.10)\n",
            "Requirement already satisfied: urllib3<3,>=1.21.1 in /usr/local/lib/python3.11/dist-packages (from requests>=2.23.0->ultralytics) (2.4.0)\n",
            "Requirement already satisfied: certifi>=2017.4.17 in /usr/local/lib/python3.11/dist-packages (from requests>=2.23.0->ultralytics) (2025.4.26)\n",
            "Requirement already satisfied: filelock in /usr/local/lib/python3.11/dist-packages (from torch>=1.8.0->ultralytics) (3.18.0)\n",
            "Requirement already satisfied: typing-extensions>=4.10.0 in /usr/local/lib/python3.11/dist-packages (from torch>=1.8.0->ultralytics) (4.14.0)\n",
            "Requirement already satisfied: networkx in /usr/local/lib/python3.11/dist-packages (from torch>=1.8.0->ultralytics) (3.5)\n",
            "Requirement already satisfied: jinja2 in /usr/local/lib/python3.11/dist-packages (from torch>=1.8.0->ultralytics) (3.1.6)\n",
            "Requirement already satisfied: fsspec in /usr/local/lib/python3.11/dist-packages (from torch>=1.8.0->ultralytics) (2025.3.2)\n",
            "Collecting nvidia-cuda-nvrtc-cu12==12.4.127 (from torch>=1.8.0->ultralytics)\n",
            "  Downloading nvidia_cuda_nvrtc_cu12-12.4.127-py3-none-manylinux2014_x86_64.whl.metadata (1.5 kB)\n",
            "Collecting nvidia-cuda-runtime-cu12==12.4.127 (from torch>=1.8.0->ultralytics)\n",
            "  Downloading nvidia_cuda_runtime_cu12-12.4.127-py3-none-manylinux2014_x86_64.whl.metadata (1.5 kB)\n",
            "Collecting nvidia-cuda-cupti-cu12==12.4.127 (from torch>=1.8.0->ultralytics)\n",
            "  Downloading nvidia_cuda_cupti_cu12-12.4.127-py3-none-manylinux2014_x86_64.whl.metadata (1.6 kB)\n",
            "Collecting nvidia-cudnn-cu12==9.1.0.70 (from torch>=1.8.0->ultralytics)\n",
            "  Downloading nvidia_cudnn_cu12-9.1.0.70-py3-none-manylinux2014_x86_64.whl.metadata (1.6 kB)\n",
            "Collecting nvidia-cublas-cu12==12.4.5.8 (from torch>=1.8.0->ultralytics)\n",
            "  Downloading nvidia_cublas_cu12-12.4.5.8-py3-none-manylinux2014_x86_64.whl.metadata (1.5 kB)\n",
            "Collecting nvidia-cufft-cu12==11.2.1.3 (from torch>=1.8.0->ultralytics)\n",
            "  Downloading nvidia_cufft_cu12-11.2.1.3-py3-none-manylinux2014_x86_64.whl.metadata (1.5 kB)\n",
            "Collecting nvidia-curand-cu12==10.3.5.147 (from torch>=1.8.0->ultralytics)\n",
            "  Downloading nvidia_curand_cu12-10.3.5.147-py3-none-manylinux2014_x86_64.whl.metadata (1.5 kB)\n",
            "Collecting nvidia-cusolver-cu12==11.6.1.9 (from torch>=1.8.0->ultralytics)\n",
            "  Downloading nvidia_cusolver_cu12-11.6.1.9-py3-none-manylinux2014_x86_64.whl.metadata (1.6 kB)\n",
            "Collecting nvidia-cusparse-cu12==12.3.1.170 (from torch>=1.8.0->ultralytics)\n",
            "  Downloading nvidia_cusparse_cu12-12.3.1.170-py3-none-manylinux2014_x86_64.whl.metadata (1.6 kB)\n",
            "Requirement already satisfied: nvidia-cusparselt-cu12==0.6.2 in /usr/local/lib/python3.11/dist-packages (from torch>=1.8.0->ultralytics) (0.6.2)\n",
            "Requirement already satisfied: nvidia-nccl-cu12==2.21.5 in /usr/local/lib/python3.11/dist-packages (from torch>=1.8.0->ultralytics) (2.21.5)\n",
            "Requirement already satisfied: nvidia-nvtx-cu12==12.4.127 in /usr/local/lib/python3.11/dist-packages (from torch>=1.8.0->ultralytics) (12.4.127)\n",
            "Collecting nvidia-nvjitlink-cu12==12.4.127 (from torch>=1.8.0->ultralytics)\n",
            "  Downloading nvidia_nvjitlink_cu12-12.4.127-py3-none-manylinux2014_x86_64.whl.metadata (1.5 kB)\n",
            "Requirement already satisfied: triton==3.2.0 in /usr/local/lib/python3.11/dist-packages (from torch>=1.8.0->ultralytics) (3.2.0)\n",
            "Requirement already satisfied: sympy==1.13.1 in /usr/local/lib/python3.11/dist-packages (from torch>=1.8.0->ultralytics) (1.13.1)\n",
            "Requirement already satisfied: mpmath<1.4,>=1.1.0 in /usr/local/lib/python3.11/dist-packages (from sympy==1.13.1->torch>=1.8.0->ultralytics) (1.3.0)\n",
            "Requirement already satisfied: six>=1.5 in /usr/local/lib/python3.11/dist-packages (from python-dateutil>=2.7->matplotlib>=3.3.0->ultralytics) (1.17.0)\n",
            "Requirement already satisfied: MarkupSafe>=2.0 in /usr/local/lib/python3.11/dist-packages (from jinja2->torch>=1.8.0->ultralytics) (3.0.2)\n",
            "Downloading ultralytics-8.3.153-py3-none-any.whl (1.0 MB)\n",
            "\u001b[2K   \u001b[90m━━━━━━━━━━━━━━━━━━━━━━━━━━━━━━━━━━━━━━━━\u001b[0m \u001b[32m1.0/1.0 MB\u001b[0m \u001b[31m28.0 MB/s\u001b[0m eta \u001b[36m0:00:00\u001b[0m\n",
            "\u001b[?25hDownloading nvidia_cublas_cu12-12.4.5.8-py3-none-manylinux2014_x86_64.whl (363.4 MB)\n",
            "\u001b[2K   \u001b[90m━━━━━━━━━━━━━━━━━━━━━━━━━━━━━━━━━━━━━━━━\u001b[0m \u001b[32m363.4/363.4 MB\u001b[0m \u001b[31m4.2 MB/s\u001b[0m eta \u001b[36m0:00:00\u001b[0m\n",
            "\u001b[?25hDownloading nvidia_cuda_cupti_cu12-12.4.127-py3-none-manylinux2014_x86_64.whl (13.8 MB)\n",
            "\u001b[2K   \u001b[90m━━━━━━━━━━━━━━━━━━━━━━━━━━━━━━━━━━━━━━━━\u001b[0m \u001b[32m13.8/13.8 MB\u001b[0m \u001b[31m58.1 MB/s\u001b[0m eta \u001b[36m0:00:00\u001b[0m\n",
            "\u001b[?25hDownloading nvidia_cuda_nvrtc_cu12-12.4.127-py3-none-manylinux2014_x86_64.whl (24.6 MB)\n",
            "\u001b[2K   \u001b[90m━━━━━━━━━━━━━━━━━━━━━━━━━━━━━━━━━━━━━━━━\u001b[0m \u001b[32m24.6/24.6 MB\u001b[0m \u001b[31m55.7 MB/s\u001b[0m eta \u001b[36m0:00:00\u001b[0m\n",
            "\u001b[?25hDownloading nvidia_cuda_runtime_cu12-12.4.127-py3-none-manylinux2014_x86_64.whl (883 kB)\n",
            "\u001b[2K   \u001b[90m━━━━━━━━━━━━━━━━━━━━━━━━━━━━━━━━━━━━━━━━\u001b[0m \u001b[32m883.7/883.7 kB\u001b[0m \u001b[31m43.8 MB/s\u001b[0m eta \u001b[36m0:00:00\u001b[0m\n",
            "\u001b[?25hDownloading nvidia_cudnn_cu12-9.1.0.70-py3-none-manylinux2014_x86_64.whl (664.8 MB)\n",
            "\u001b[2K   \u001b[90m━━━━━━━━━━━━━━━━━━━━━━━━━━━━━━━━━━━━━━━━\u001b[0m \u001b[32m664.8/664.8 MB\u001b[0m \u001b[31m3.0 MB/s\u001b[0m eta \u001b[36m0:00:00\u001b[0m\n",
            "\u001b[?25hDownloading nvidia_cufft_cu12-11.2.1.3-py3-none-manylinux2014_x86_64.whl (211.5 MB)\n",
            "\u001b[2K   \u001b[90m━━━━━━━━━━━━━━━━━━━━━━━━━━━━━━━━━━━━━━━━\u001b[0m \u001b[32m211.5/211.5 MB\u001b[0m \u001b[31m5.7 MB/s\u001b[0m eta \u001b[36m0:00:00\u001b[0m\n",
            "\u001b[?25hDownloading nvidia_curand_cu12-10.3.5.147-py3-none-manylinux2014_x86_64.whl (56.3 MB)\n",
            "\u001b[2K   \u001b[90m━━━━━━━━━━━━━━━━━━━━━━━━━━━━━━━━━━━━━━━━\u001b[0m \u001b[32m56.3/56.3 MB\u001b[0m \u001b[31m12.4 MB/s\u001b[0m eta \u001b[36m0:00:00\u001b[0m\n",
            "\u001b[?25hDownloading nvidia_cusolver_cu12-11.6.1.9-py3-none-manylinux2014_x86_64.whl (127.9 MB)\n",
            "\u001b[2K   \u001b[90m━━━━━━━━━━━━━━━━━━━━━━━━━━━━━━━━━━━━━━━━\u001b[0m \u001b[32m127.9/127.9 MB\u001b[0m \u001b[31m7.7 MB/s\u001b[0m eta \u001b[36m0:00:00\u001b[0m\n",
            "\u001b[?25hDownloading nvidia_cusparse_cu12-12.3.1.170-py3-none-manylinux2014_x86_64.whl (207.5 MB)\n",
            "\u001b[2K   \u001b[90m━━━━━━━━━━━━━━━━━━━━━━━━━━━━━━━━━━━━━━━━\u001b[0m \u001b[32m207.5/207.5 MB\u001b[0m \u001b[31m5.6 MB/s\u001b[0m eta \u001b[36m0:00:00\u001b[0m\n",
            "\u001b[?25hDownloading nvidia_nvjitlink_cu12-12.4.127-py3-none-manylinux2014_x86_64.whl (21.1 MB)\n",
            "\u001b[2K   \u001b[90m━━━━━━━━━━━━━━━━━━━━━━━━━━━━━━━━━━━━━━━━\u001b[0m \u001b[32m21.1/21.1 MB\u001b[0m \u001b[31m64.7 MB/s\u001b[0m eta \u001b[36m0:00:00\u001b[0m\n",
            "\u001b[?25hDownloading ultralytics_thop-2.0.14-py3-none-any.whl (26 kB)\n",
            "Installing collected packages: nvidia-nvjitlink-cu12, nvidia-curand-cu12, nvidia-cufft-cu12, nvidia-cuda-runtime-cu12, nvidia-cuda-nvrtc-cu12, nvidia-cuda-cupti-cu12, nvidia-cublas-cu12, nvidia-cusparse-cu12, nvidia-cudnn-cu12, nvidia-cusolver-cu12, ultralytics-thop, ultralytics\n",
            "  Attempting uninstall: nvidia-nvjitlink-cu12\n",
            "    Found existing installation: nvidia-nvjitlink-cu12 12.5.82\n",
            "    Uninstalling nvidia-nvjitlink-cu12-12.5.82:\n",
            "      Successfully uninstalled nvidia-nvjitlink-cu12-12.5.82\n",
            "  Attempting uninstall: nvidia-curand-cu12\n",
            "    Found existing installation: nvidia-curand-cu12 10.3.6.82\n",
            "    Uninstalling nvidia-curand-cu12-10.3.6.82:\n",
            "      Successfully uninstalled nvidia-curand-cu12-10.3.6.82\n",
            "  Attempting uninstall: nvidia-cufft-cu12\n",
            "    Found existing installation: nvidia-cufft-cu12 11.2.3.61\n",
            "    Uninstalling nvidia-cufft-cu12-11.2.3.61:\n",
            "      Successfully uninstalled nvidia-cufft-cu12-11.2.3.61\n",
            "  Attempting uninstall: nvidia-cuda-runtime-cu12\n",
            "    Found existing installation: nvidia-cuda-runtime-cu12 12.5.82\n",
            "    Uninstalling nvidia-cuda-runtime-cu12-12.5.82:\n",
            "      Successfully uninstalled nvidia-cuda-runtime-cu12-12.5.82\n",
            "  Attempting uninstall: nvidia-cuda-nvrtc-cu12\n",
            "    Found existing installation: nvidia-cuda-nvrtc-cu12 12.5.82\n",
            "    Uninstalling nvidia-cuda-nvrtc-cu12-12.5.82:\n",
            "      Successfully uninstalled nvidia-cuda-nvrtc-cu12-12.5.82\n",
            "  Attempting uninstall: nvidia-cuda-cupti-cu12\n",
            "    Found existing installation: nvidia-cuda-cupti-cu12 12.5.82\n",
            "    Uninstalling nvidia-cuda-cupti-cu12-12.5.82:\n",
            "      Successfully uninstalled nvidia-cuda-cupti-cu12-12.5.82\n",
            "  Attempting uninstall: nvidia-cublas-cu12\n",
            "    Found existing installation: nvidia-cublas-cu12 12.5.3.2\n",
            "    Uninstalling nvidia-cublas-cu12-12.5.3.2:\n",
            "      Successfully uninstalled nvidia-cublas-cu12-12.5.3.2\n",
            "  Attempting uninstall: nvidia-cusparse-cu12\n",
            "    Found existing installation: nvidia-cusparse-cu12 12.5.1.3\n",
            "    Uninstalling nvidia-cusparse-cu12-12.5.1.3:\n",
            "      Successfully uninstalled nvidia-cusparse-cu12-12.5.1.3\n",
            "  Attempting uninstall: nvidia-cudnn-cu12\n",
            "    Found existing installation: nvidia-cudnn-cu12 9.3.0.75\n",
            "    Uninstalling nvidia-cudnn-cu12-9.3.0.75:\n",
            "      Successfully uninstalled nvidia-cudnn-cu12-9.3.0.75\n",
            "  Attempting uninstall: nvidia-cusolver-cu12\n",
            "    Found existing installation: nvidia-cusolver-cu12 11.6.3.83\n",
            "    Uninstalling nvidia-cusolver-cu12-11.6.3.83:\n",
            "      Successfully uninstalled nvidia-cusolver-cu12-11.6.3.83\n",
            "Successfully installed nvidia-cublas-cu12-12.4.5.8 nvidia-cuda-cupti-cu12-12.4.127 nvidia-cuda-nvrtc-cu12-12.4.127 nvidia-cuda-runtime-cu12-12.4.127 nvidia-cudnn-cu12-9.1.0.70 nvidia-cufft-cu12-11.2.1.3 nvidia-curand-cu12-10.3.5.147 nvidia-cusolver-cu12-11.6.1.9 nvidia-cusparse-cu12-12.3.1.170 nvidia-nvjitlink-cu12-12.4.127 ultralytics-8.3.153 ultralytics-thop-2.0.14\n"
          ]
        }
      ],
      "source": [
        "!pip install ultralytics"
      ]
    },
    {
      "cell_type": "code",
      "execution_count": 3,
      "metadata": {
        "colab": {
          "base_uri": "https://localhost:8080/"
        },
        "id": "JYTd1A4cWxDN",
        "outputId": "bb37defe-b8d6-4500-b854-0a643ccc899b"
      },
      "outputs": [
        {
          "output_type": "stream",
          "name": "stdout",
          "text": [
            "Ultralytics 8.3.153 🚀 Python-3.11.13 torch-2.6.0+cu124 CUDA:0 (Tesla T4, 15095MiB)\n",
            "Setup complete ✅ (2 CPUs, 12.7 GB RAM, 41.5/112.6 GB disk)\n"
          ]
        }
      ],
      "source": [
        "from ultralytics import YOLO\n",
        "\n",
        "# Cek versi\n",
        "import ultralytics\n",
        "ultralytics.checks()"
      ]
    },
    {
      "cell_type": "code",
      "execution_count": 8,
      "metadata": {
        "colab": {
          "base_uri": "https://localhost:8080/",
          "height": 90
        },
        "id": "AQaYBgy7pYCX",
        "outputId": "10ba93cf-3b32-423a-96cf-2499ac061acd"
      },
      "outputs": [
        {
          "output_type": "display_data",
          "data": {
            "text/plain": [
              "<IPython.core.display.HTML object>"
            ],
            "text/html": [
              "\n",
              "     <input type=\"file\" id=\"files-266b825b-ab44-48bc-b9d9-90f5e86385e7\" name=\"files[]\" multiple disabled\n",
              "        style=\"border:none\" />\n",
              "     <output id=\"result-266b825b-ab44-48bc-b9d9-90f5e86385e7\">\n",
              "      Upload widget is only available when the cell has been executed in the\n",
              "      current browser session. Please rerun this cell to enable.\n",
              "      </output>\n",
              "      <script>// Copyright 2017 Google LLC\n",
              "//\n",
              "// Licensed under the Apache License, Version 2.0 (the \"License\");\n",
              "// you may not use this file except in compliance with the License.\n",
              "// You may obtain a copy of the License at\n",
              "//\n",
              "//      http://www.apache.org/licenses/LICENSE-2.0\n",
              "//\n",
              "// Unless required by applicable law or agreed to in writing, software\n",
              "// distributed under the License is distributed on an \"AS IS\" BASIS,\n",
              "// WITHOUT WARRANTIES OR CONDITIONS OF ANY KIND, either express or implied.\n",
              "// See the License for the specific language governing permissions and\n",
              "// limitations under the License.\n",
              "\n",
              "/**\n",
              " * @fileoverview Helpers for google.colab Python module.\n",
              " */\n",
              "(function(scope) {\n",
              "function span(text, styleAttributes = {}) {\n",
              "  const element = document.createElement('span');\n",
              "  element.textContent = text;\n",
              "  for (const key of Object.keys(styleAttributes)) {\n",
              "    element.style[key] = styleAttributes[key];\n",
              "  }\n",
              "  return element;\n",
              "}\n",
              "\n",
              "// Max number of bytes which will be uploaded at a time.\n",
              "const MAX_PAYLOAD_SIZE = 100 * 1024;\n",
              "\n",
              "function _uploadFiles(inputId, outputId) {\n",
              "  const steps = uploadFilesStep(inputId, outputId);\n",
              "  const outputElement = document.getElementById(outputId);\n",
              "  // Cache steps on the outputElement to make it available for the next call\n",
              "  // to uploadFilesContinue from Python.\n",
              "  outputElement.steps = steps;\n",
              "\n",
              "  return _uploadFilesContinue(outputId);\n",
              "}\n",
              "\n",
              "// This is roughly an async generator (not supported in the browser yet),\n",
              "// where there are multiple asynchronous steps and the Python side is going\n",
              "// to poll for completion of each step.\n",
              "// This uses a Promise to block the python side on completion of each step,\n",
              "// then passes the result of the previous step as the input to the next step.\n",
              "function _uploadFilesContinue(outputId) {\n",
              "  const outputElement = document.getElementById(outputId);\n",
              "  const steps = outputElement.steps;\n",
              "\n",
              "  const next = steps.next(outputElement.lastPromiseValue);\n",
              "  return Promise.resolve(next.value.promise).then((value) => {\n",
              "    // Cache the last promise value to make it available to the next\n",
              "    // step of the generator.\n",
              "    outputElement.lastPromiseValue = value;\n",
              "    return next.value.response;\n",
              "  });\n",
              "}\n",
              "\n",
              "/**\n",
              " * Generator function which is called between each async step of the upload\n",
              " * process.\n",
              " * @param {string} inputId Element ID of the input file picker element.\n",
              " * @param {string} outputId Element ID of the output display.\n",
              " * @return {!Iterable<!Object>} Iterable of next steps.\n",
              " */\n",
              "function* uploadFilesStep(inputId, outputId) {\n",
              "  const inputElement = document.getElementById(inputId);\n",
              "  inputElement.disabled = false;\n",
              "\n",
              "  const outputElement = document.getElementById(outputId);\n",
              "  outputElement.innerHTML = '';\n",
              "\n",
              "  const pickedPromise = new Promise((resolve) => {\n",
              "    inputElement.addEventListener('change', (e) => {\n",
              "      resolve(e.target.files);\n",
              "    });\n",
              "  });\n",
              "\n",
              "  const cancel = document.createElement('button');\n",
              "  inputElement.parentElement.appendChild(cancel);\n",
              "  cancel.textContent = 'Cancel upload';\n",
              "  const cancelPromise = new Promise((resolve) => {\n",
              "    cancel.onclick = () => {\n",
              "      resolve(null);\n",
              "    };\n",
              "  });\n",
              "\n",
              "  // Wait for the user to pick the files.\n",
              "  const files = yield {\n",
              "    promise: Promise.race([pickedPromise, cancelPromise]),\n",
              "    response: {\n",
              "      action: 'starting',\n",
              "    }\n",
              "  };\n",
              "\n",
              "  cancel.remove();\n",
              "\n",
              "  // Disable the input element since further picks are not allowed.\n",
              "  inputElement.disabled = true;\n",
              "\n",
              "  if (!files) {\n",
              "    return {\n",
              "      response: {\n",
              "        action: 'complete',\n",
              "      }\n",
              "    };\n",
              "  }\n",
              "\n",
              "  for (const file of files) {\n",
              "    const li = document.createElement('li');\n",
              "    li.append(span(file.name, {fontWeight: 'bold'}));\n",
              "    li.append(span(\n",
              "        `(${file.type || 'n/a'}) - ${file.size} bytes, ` +\n",
              "        `last modified: ${\n",
              "            file.lastModifiedDate ? file.lastModifiedDate.toLocaleDateString() :\n",
              "                                    'n/a'} - `));\n",
              "    const percent = span('0% done');\n",
              "    li.appendChild(percent);\n",
              "\n",
              "    outputElement.appendChild(li);\n",
              "\n",
              "    const fileDataPromise = new Promise((resolve) => {\n",
              "      const reader = new FileReader();\n",
              "      reader.onload = (e) => {\n",
              "        resolve(e.target.result);\n",
              "      };\n",
              "      reader.readAsArrayBuffer(file);\n",
              "    });\n",
              "    // Wait for the data to be ready.\n",
              "    let fileData = yield {\n",
              "      promise: fileDataPromise,\n",
              "      response: {\n",
              "        action: 'continue',\n",
              "      }\n",
              "    };\n",
              "\n",
              "    // Use a chunked sending to avoid message size limits. See b/62115660.\n",
              "    let position = 0;\n",
              "    do {\n",
              "      const length = Math.min(fileData.byteLength - position, MAX_PAYLOAD_SIZE);\n",
              "      const chunk = new Uint8Array(fileData, position, length);\n",
              "      position += length;\n",
              "\n",
              "      const base64 = btoa(String.fromCharCode.apply(null, chunk));\n",
              "      yield {\n",
              "        response: {\n",
              "          action: 'append',\n",
              "          file: file.name,\n",
              "          data: base64,\n",
              "        },\n",
              "      };\n",
              "\n",
              "      let percentDone = fileData.byteLength === 0 ?\n",
              "          100 :\n",
              "          Math.round((position / fileData.byteLength) * 100);\n",
              "      percent.textContent = `${percentDone}% done`;\n",
              "\n",
              "    } while (position < fileData.byteLength);\n",
              "  }\n",
              "\n",
              "  // All done.\n",
              "  yield {\n",
              "    response: {\n",
              "      action: 'complete',\n",
              "    }\n",
              "  };\n",
              "}\n",
              "\n",
              "scope.google = scope.google || {};\n",
              "scope.google.colab = scope.google.colab || {};\n",
              "scope.google.colab._files = {\n",
              "  _uploadFiles,\n",
              "  _uploadFilesContinue,\n",
              "};\n",
              "})(self);\n",
              "</script> "
            ]
          },
          "metadata": {}
        },
        {
          "output_type": "stream",
          "name": "stdout",
          "text": [
            "Saving kaggle.json to kaggle.json\n"
          ]
        },
        {
          "output_type": "execute_result",
          "data": {
            "text/plain": [
              "{'kaggle.json': b'{\"username\":\"mochyusufhaidar\",\"key\":\"9529559981a140f13f52dae33420641e\"}'}"
            ]
          },
          "metadata": {},
          "execution_count": 8
        }
      ],
      "source": [
        "from google.colab import files\n",
        "files.upload()  # upload kaggle.json"
      ]
    },
    {
      "cell_type": "code",
      "execution_count": 9,
      "metadata": {
        "colab": {
          "base_uri": "https://localhost:8080/"
        },
        "id": "Og4aRw9cp5wX",
        "outputId": "ce2bff72-dbde-417b-8bf2-0d345ee4d4d7"
      },
      "outputs": [
        {
          "output_type": "stream",
          "name": "stdout",
          "text": [
            "Dataset URL: https://www.kaggle.com/datasets/mochyusufhaidar/dataset-sampah\n",
            "License(s): unknown\n",
            "Downloading dataset-sampah.zip to /content\n",
            " 97% 634M/654M [00:02<00:00, 257MB/s]\n",
            "100% 654M/654M [00:02<00:00, 321MB/s]\n"
          ]
        }
      ],
      "source": [
        "# Buat folder dan copy token\n",
        "!mkdir -p ~/.kaggle\n",
        "!cp kaggle.json ~/.kaggle/\n",
        "!chmod 600 ~/.kaggle/kaggle.json\n",
        "\n",
        "# Unduh dataset\n",
        "!kaggle datasets download -d mochyusufhaidar/dataset-sampah\n",
        "\n",
        "# Ekstrak\n",
        "!unzip -q dataset-sampah.zip -d dataset"
      ]
    },
    {
      "cell_type": "code",
      "execution_count": 11,
      "metadata": {
        "id": "9vopWG8HqMA5"
      },
      "outputs": [],
      "source": [
        "dataset_path = \"/content/dataset/balanced_dataset\""
      ]
    },
    {
      "cell_type": "code",
      "execution_count": 12,
      "metadata": {
        "colab": {
          "base_uri": "https://localhost:8080/"
        },
        "id": "PP_h-fH-qIie",
        "outputId": "ccece2ae-ec25-4c76-9df0-308719fbed9e"
      },
      "outputs": [
        {
          "output_type": "stream",
          "name": "stdout",
          "text": [
            "['biological', 'paper', 'glass', 'cardboard', 'plastic', 'battery', 'clothes', 'shoes', 'metal', 'trash']\n"
          ]
        }
      ],
      "source": [
        "import os\n",
        "print(os.listdir(dataset_path))"
      ]
    },
    {
      "cell_type": "markdown",
      "source": [
        "# Modelling"
      ],
      "metadata": {
        "id": "NNljC8l43H8g"
      }
    },
    {
      "cell_type": "code",
      "execution_count": 13,
      "metadata": {
        "colab": {
          "base_uri": "https://localhost:8080/"
        },
        "id": "WBxIbOc7SxaI",
        "outputId": "761feaf2-5a27-404e-a804-bc0c5a907f64",
        "collapsed": true
      },
      "outputs": [
        {
          "output_type": "stream",
          "name": "stdout",
          "text": [
            "Downloading https://github.com/ultralytics/assets/releases/download/v8.3.0/yolov8n-cls.pt to 'yolov8n-cls.pt'...\n"
          ]
        },
        {
          "output_type": "stream",
          "name": "stderr",
          "text": [
            "100%|██████████| 5.31M/5.31M [00:00<00:00, 115MB/s]\n"
          ]
        },
        {
          "output_type": "stream",
          "name": "stdout",
          "text": [
            "Ultralytics 8.3.153 🚀 Python-3.11.13 torch-2.6.0+cu124 CUDA:0 (Tesla T4, 15095MiB)\n",
            "\u001b[34m\u001b[1mengine/trainer: \u001b[0magnostic_nms=False, amp=True, augment=False, auto_augment=randaugment, batch=16, bgr=0.0, box=7.5, cache=False, cfg=None, classes=None, close_mosaic=10, cls=0.5, conf=None, copy_paste=0.0, copy_paste_mode=flip, cos_lr=False, cutmix=0.0, data=/content/dataset/balanced_dataset, degrees=0.0, deterministic=True, device=None, dfl=1.5, dnn=False, dropout=0.0, dynamic=False, embed=None, epochs=20, erasing=0.4, exist_ok=False, fliplr=0.5, flipud=0.0, format=torchscript, fraction=1.0, freeze=None, half=False, hsv_h=0.015, hsv_s=0.7, hsv_v=0.4, imgsz=224, int8=False, iou=0.7, keras=False, kobj=1.0, line_width=None, lr0=0.01, lrf=0.01, mask_ratio=4, max_det=300, mixup=0.0, mode=train, model=yolov8n-cls.pt, momentum=0.937, mosaic=1.0, multi_scale=False, name=train_balanced, nbs=64, nms=False, opset=None, optimize=False, optimizer=auto, overlap_mask=True, patience=100, perspective=0.0, plots=True, pose=12.0, pretrained=True, profile=False, project=None, rect=False, resume=False, retina_masks=False, save=True, save_conf=False, save_crop=False, save_dir=runs/classify/train_balanced, save_frames=False, save_json=False, save_period=-1, save_txt=False, scale=0.5, seed=0, shear=0.0, show=False, show_boxes=True, show_conf=True, show_labels=True, simplify=True, single_cls=False, source=None, split=val, stream_buffer=False, task=classify, time=None, tracker=botsort.yaml, translate=0.1, val=True, verbose=True, vid_stride=1, visualize=False, warmup_bias_lr=0.1, warmup_epochs=3.0, warmup_momentum=0.8, weight_decay=0.0005, workers=8, workspace=None\n",
            "WARNING ⚠️ Dataset 'split=train' not found at /content/dataset/balanced_dataset/train\n",
            "Found 9000 images in subdirectories. Attempting to split...\n",
            "Splitting /content/dataset/balanced_dataset (10 classes, 9000 images) into 80% train, 20% val...\n",
            "Split complete in /content/dataset/balanced_dataset_split ✅\n",
            "\u001b[34m\u001b[1mtrain:\u001b[0m /content/dataset/balanced_dataset_split/train... found 7200 images in 10 classes ✅ \n",
            "\u001b[34m\u001b[1mval:\u001b[0m /content/dataset/balanced_dataset_split/val... found 1800 images in 10 classes ✅ \n",
            "\u001b[34m\u001b[1mtest:\u001b[0m None...\n",
            "Overriding model.yaml nc=1000 with nc=10\n",
            "\n",
            "                   from  n    params  module                                       arguments                     \n",
            "  0                  -1  1       464  ultralytics.nn.modules.conv.Conv             [3, 16, 3, 2]                 \n",
            "  1                  -1  1      4672  ultralytics.nn.modules.conv.Conv             [16, 32, 3, 2]                \n",
            "  2                  -1  1      7360  ultralytics.nn.modules.block.C2f             [32, 32, 1, True]             \n",
            "  3                  -1  1     18560  ultralytics.nn.modules.conv.Conv             [32, 64, 3, 2]                \n",
            "  4                  -1  2     49664  ultralytics.nn.modules.block.C2f             [64, 64, 2, True]             \n",
            "  5                  -1  1     73984  ultralytics.nn.modules.conv.Conv             [64, 128, 3, 2]               \n",
            "  6                  -1  2    197632  ultralytics.nn.modules.block.C2f             [128, 128, 2, True]           \n",
            "  7                  -1  1    295424  ultralytics.nn.modules.conv.Conv             [128, 256, 3, 2]              \n",
            "  8                  -1  1    460288  ultralytics.nn.modules.block.C2f             [256, 256, 1, True]           \n",
            "  9                  -1  1    343050  ultralytics.nn.modules.head.Classify         [256, 10]                     \n",
            "YOLOv8n-cls summary: 56 layers, 1,451,098 parameters, 1,451,098 gradients, 3.4 GFLOPs\n",
            "Transferred 156/158 items from pretrained weights\n",
            "\u001b[34m\u001b[1mAMP: \u001b[0mrunning Automatic Mixed Precision (AMP) checks...\n",
            "Downloading https://github.com/ultralytics/assets/releases/download/v8.3.0/yolo11n.pt to 'yolo11n.pt'...\n"
          ]
        },
        {
          "output_type": "stream",
          "name": "stderr",
          "text": [
            "100%|██████████| 5.35M/5.35M [00:00<00:00, 83.4MB/s]\n"
          ]
        },
        {
          "output_type": "stream",
          "name": "stdout",
          "text": [
            "\u001b[34m\u001b[1mAMP: \u001b[0mchecks passed ✅\n",
            "\u001b[34m\u001b[1mtrain: \u001b[0mFast image access ✅ (ping: 0.0±0.0 ms, read: 1974.4±779.6 MB/s, size: 62.9 KB)\n"
          ]
        },
        {
          "output_type": "stream",
          "name": "stderr",
          "text": [
            "\u001b[34m\u001b[1mtrain: \u001b[0mScanning /content/dataset/balanced_dataset_split/train... 7200 images, 0 corrupt: 100%|██████████| 7200/7200 [00:01<00:00, 5566.85it/s]"
          ]
        },
        {
          "output_type": "stream",
          "name": "stdout",
          "text": [
            "\u001b[34m\u001b[1mtrain: \u001b[0mNew cache created: /content/dataset/balanced_dataset_split/train.cache\n"
          ]
        },
        {
          "output_type": "stream",
          "name": "stderr",
          "text": [
            "\n"
          ]
        },
        {
          "output_type": "stream",
          "name": "stdout",
          "text": [
            "\u001b[34m\u001b[1mval: \u001b[0mFast image access ✅ (ping: 0.0±0.0 ms, read: 1099.6±523.4 MB/s, size: 46.4 KB)\n"
          ]
        },
        {
          "output_type": "stream",
          "name": "stderr",
          "text": [
            "\u001b[34m\u001b[1mval: \u001b[0mScanning /content/dataset/balanced_dataset_split/val... 1800 images, 0 corrupt: 100%|██████████| 1800/1800 [00:00<00:00, 3626.53it/s]"
          ]
        },
        {
          "output_type": "stream",
          "name": "stdout",
          "text": [
            "\u001b[34m\u001b[1mval: \u001b[0mNew cache created: /content/dataset/balanced_dataset_split/val.cache\n"
          ]
        },
        {
          "output_type": "stream",
          "name": "stderr",
          "text": [
            "\n"
          ]
        },
        {
          "output_type": "stream",
          "name": "stdout",
          "text": [
            "\u001b[34m\u001b[1moptimizer:\u001b[0m 'optimizer=auto' found, ignoring 'lr0=0.01' and 'momentum=0.937' and determining best 'optimizer', 'lr0' and 'momentum' automatically... \n",
            "\u001b[34m\u001b[1moptimizer:\u001b[0m AdamW(lr=0.000714, momentum=0.9) with parameter groups 26 weight(decay=0.0), 27 weight(decay=0.0005), 27 bias(decay=0.0)\n",
            "Image sizes 224 train, 224 val\n",
            "Using 2 dataloader workers\n",
            "Logging results to \u001b[1mruns/classify/train_balanced\u001b[0m\n",
            "Starting training for 20 epochs...\n",
            "\n",
            "      Epoch    GPU_mem       loss  Instances       Size\n"
          ]
        },
        {
          "output_type": "stream",
          "name": "stderr",
          "text": [
            "       1/20      0.27G      2.433         16        224:   1%|▏         | 6/450 [00:01<01:19,  5.60it/s]"
          ]
        },
        {
          "output_type": "stream",
          "name": "stdout",
          "text": [
            "Downloading https://ultralytics.com/assets/Arial.ttf to '/root/.config/Ultralytics/Arial.ttf'...\n"
          ]
        },
        {
          "output_type": "stream",
          "name": "stderr",
          "text": [
            "       1/20      0.27G      2.422         16        224:   2%|▏         | 8/450 [00:01<01:08,  6.50it/s]\n",
            "100%|██████████| 755k/755k [00:00<00:00, 20.8MB/s]\n",
            "       1/20     0.273G      1.482         16        224: 100%|██████████| 450/450 [01:07<00:00,  6.69it/s]\n",
            "               classes   top1_acc   top5_acc: 100%|██████████| 57/57 [00:11<00:00,  5.09it/s]"
          ]
        },
        {
          "output_type": "stream",
          "name": "stdout",
          "text": [
            "                   all      0.852      0.994\n"
          ]
        },
        {
          "output_type": "stream",
          "name": "stderr",
          "text": [
            "\n"
          ]
        },
        {
          "output_type": "stream",
          "name": "stdout",
          "text": [
            "\n",
            "      Epoch    GPU_mem       loss  Instances       Size\n"
          ]
        },
        {
          "output_type": "stream",
          "name": "stderr",
          "text": [
            "       2/20     0.281G     0.6521         16        224: 100%|██████████| 450/450 [01:04<00:00,  6.93it/s]\n",
            "               classes   top1_acc   top5_acc: 100%|██████████| 57/57 [00:11<00:00,  5.17it/s]"
          ]
        },
        {
          "output_type": "stream",
          "name": "stdout",
          "text": [
            "                   all      0.904      0.997\n"
          ]
        },
        {
          "output_type": "stream",
          "name": "stderr",
          "text": [
            "\n"
          ]
        },
        {
          "output_type": "stream",
          "name": "stdout",
          "text": [
            "\n",
            "      Epoch    GPU_mem       loss  Instances       Size\n"
          ]
        },
        {
          "output_type": "stream",
          "name": "stderr",
          "text": [
            "       3/20     0.289G     0.5299         16        224: 100%|██████████| 450/450 [01:05<00:00,  6.92it/s]\n",
            "               classes   top1_acc   top5_acc: 100%|██████████| 57/57 [00:11<00:00,  5.07it/s]"
          ]
        },
        {
          "output_type": "stream",
          "name": "stdout",
          "text": [
            "                   all       0.89      0.997\n"
          ]
        },
        {
          "output_type": "stream",
          "name": "stderr",
          "text": [
            "\n"
          ]
        },
        {
          "output_type": "stream",
          "name": "stdout",
          "text": [
            "\n",
            "      Epoch    GPU_mem       loss  Instances       Size\n"
          ]
        },
        {
          "output_type": "stream",
          "name": "stderr",
          "text": [
            "       4/20     0.299G     0.4564         16        224: 100%|██████████| 450/450 [01:04<00:00,  6.95it/s]\n",
            "               classes   top1_acc   top5_acc: 100%|██████████| 57/57 [00:11<00:00,  5.08it/s]"
          ]
        },
        {
          "output_type": "stream",
          "name": "stdout",
          "text": [
            "                   all      0.912      0.998\n"
          ]
        },
        {
          "output_type": "stream",
          "name": "stderr",
          "text": [
            "\n"
          ]
        },
        {
          "output_type": "stream",
          "name": "stdout",
          "text": [
            "\n",
            "      Epoch    GPU_mem       loss  Instances       Size\n"
          ]
        },
        {
          "output_type": "stream",
          "name": "stderr",
          "text": [
            "       5/20     0.307G     0.3933         16        224: 100%|██████████| 450/450 [01:04<00:00,  7.01it/s]\n",
            "               classes   top1_acc   top5_acc: 100%|██████████| 57/57 [00:11<00:00,  5.08it/s]"
          ]
        },
        {
          "output_type": "stream",
          "name": "stdout",
          "text": [
            "                   all      0.916      0.998\n"
          ]
        },
        {
          "output_type": "stream",
          "name": "stderr",
          "text": [
            "\n"
          ]
        },
        {
          "output_type": "stream",
          "name": "stdout",
          "text": [
            "\n",
            "      Epoch    GPU_mem       loss  Instances       Size\n"
          ]
        },
        {
          "output_type": "stream",
          "name": "stderr",
          "text": [
            "       6/20     0.314G     0.3547         16        224: 100%|██████████| 450/450 [01:05<00:00,  6.87it/s]\n",
            "               classes   top1_acc   top5_acc: 100%|██████████| 57/57 [00:11<00:00,  5.08it/s]"
          ]
        },
        {
          "output_type": "stream",
          "name": "stdout",
          "text": [
            "                   all       0.92      0.997\n"
          ]
        },
        {
          "output_type": "stream",
          "name": "stderr",
          "text": [
            "\n"
          ]
        },
        {
          "output_type": "stream",
          "name": "stdout",
          "text": [
            "\n",
            "      Epoch    GPU_mem       loss  Instances       Size\n"
          ]
        },
        {
          "output_type": "stream",
          "name": "stderr",
          "text": [
            "       7/20     0.322G     0.3131         16        224: 100%|██████████| 450/450 [01:05<00:00,  6.90it/s]\n",
            "               classes   top1_acc   top5_acc: 100%|██████████| 57/57 [00:10<00:00,  5.59it/s]"
          ]
        },
        {
          "output_type": "stream",
          "name": "stdout",
          "text": [
            "                   all      0.927      0.997\n"
          ]
        },
        {
          "output_type": "stream",
          "name": "stderr",
          "text": [
            "\n"
          ]
        },
        {
          "output_type": "stream",
          "name": "stdout",
          "text": [
            "\n",
            "      Epoch    GPU_mem       loss  Instances       Size\n"
          ]
        },
        {
          "output_type": "stream",
          "name": "stderr",
          "text": [
            "       8/20      0.33G     0.2743         16        224: 100%|██████████| 450/450 [01:05<00:00,  6.89it/s]\n",
            "               classes   top1_acc   top5_acc: 100%|██████████| 57/57 [00:11<00:00,  5.11it/s]"
          ]
        },
        {
          "output_type": "stream",
          "name": "stdout",
          "text": [
            "                   all      0.924      0.996\n",
            "\n",
            "      Epoch    GPU_mem       loss  Instances       Size\n"
          ]
        },
        {
          "output_type": "stream",
          "name": "stderr",
          "text": [
            "\n",
            "       9/20      0.34G     0.2393         16        224: 100%|██████████| 450/450 [01:05<00:00,  6.89it/s]\n",
            "               classes   top1_acc   top5_acc: 100%|██████████| 57/57 [00:11<00:00,  5.08it/s]"
          ]
        },
        {
          "output_type": "stream",
          "name": "stdout",
          "text": [
            "                   all      0.937      0.998\n"
          ]
        },
        {
          "output_type": "stream",
          "name": "stderr",
          "text": [
            "\n"
          ]
        },
        {
          "output_type": "stream",
          "name": "stdout",
          "text": [
            "\n",
            "      Epoch    GPU_mem       loss  Instances       Size\n"
          ]
        },
        {
          "output_type": "stream",
          "name": "stderr",
          "text": [
            "      10/20     0.348G     0.2392         16        224: 100%|██████████| 450/450 [01:05<00:00,  6.85it/s]\n",
            "               classes   top1_acc   top5_acc: 100%|██████████| 57/57 [00:11<00:00,  4.96it/s]"
          ]
        },
        {
          "output_type": "stream",
          "name": "stdout",
          "text": [
            "                   all      0.938      0.997\n"
          ]
        },
        {
          "output_type": "stream",
          "name": "stderr",
          "text": [
            "\n"
          ]
        },
        {
          "output_type": "stream",
          "name": "stdout",
          "text": [
            "\n",
            "      Epoch    GPU_mem       loss  Instances       Size\n"
          ]
        },
        {
          "output_type": "stream",
          "name": "stderr",
          "text": [
            "      11/20     0.355G     0.2123         16        224: 100%|██████████| 450/450 [01:06<00:00,  6.79it/s]\n",
            "               classes   top1_acc   top5_acc: 100%|██████████| 57/57 [00:11<00:00,  4.99it/s]"
          ]
        },
        {
          "output_type": "stream",
          "name": "stdout",
          "text": [
            "                   all      0.934      0.997\n"
          ]
        },
        {
          "output_type": "stream",
          "name": "stderr",
          "text": [
            "\n"
          ]
        },
        {
          "output_type": "stream",
          "name": "stdout",
          "text": [
            "\n",
            "      Epoch    GPU_mem       loss  Instances       Size\n"
          ]
        },
        {
          "output_type": "stream",
          "name": "stderr",
          "text": [
            "      12/20     0.363G     0.1912         16        224: 100%|██████████| 450/450 [01:05<00:00,  6.86it/s]\n",
            "               classes   top1_acc   top5_acc: 100%|██████████| 57/57 [00:11<00:00,  5.04it/s]"
          ]
        },
        {
          "output_type": "stream",
          "name": "stdout",
          "text": [
            "                   all      0.938      0.998\n"
          ]
        },
        {
          "output_type": "stream",
          "name": "stderr",
          "text": [
            "\n"
          ]
        },
        {
          "output_type": "stream",
          "name": "stdout",
          "text": [
            "\n",
            "      Epoch    GPU_mem       loss  Instances       Size\n"
          ]
        },
        {
          "output_type": "stream",
          "name": "stderr",
          "text": [
            "      13/20     0.371G     0.1713         16        224: 100%|██████████| 450/450 [01:05<00:00,  6.87it/s]\n",
            "               classes   top1_acc   top5_acc: 100%|██████████| 57/57 [00:11<00:00,  5.10it/s]"
          ]
        },
        {
          "output_type": "stream",
          "name": "stdout",
          "text": [
            "                   all      0.938      0.998\n"
          ]
        },
        {
          "output_type": "stream",
          "name": "stderr",
          "text": [
            "\n"
          ]
        },
        {
          "output_type": "stream",
          "name": "stdout",
          "text": [
            "\n",
            "      Epoch    GPU_mem       loss  Instances       Size\n"
          ]
        },
        {
          "output_type": "stream",
          "name": "stderr",
          "text": [
            "      14/20     0.381G     0.1688         16        224: 100%|██████████| 450/450 [01:05<00:00,  6.87it/s]\n",
            "               classes   top1_acc   top5_acc: 100%|██████████| 57/57 [00:11<00:00,  5.06it/s]"
          ]
        },
        {
          "output_type": "stream",
          "name": "stdout",
          "text": [
            "                   all      0.944      0.998\n"
          ]
        },
        {
          "output_type": "stream",
          "name": "stderr",
          "text": [
            "\n"
          ]
        },
        {
          "output_type": "stream",
          "name": "stdout",
          "text": [
            "\n",
            "      Epoch    GPU_mem       loss  Instances       Size\n"
          ]
        },
        {
          "output_type": "stream",
          "name": "stderr",
          "text": [
            "      15/20     0.389G     0.1616         16        224: 100%|██████████| 450/450 [01:04<00:00,  6.94it/s]\n",
            "               classes   top1_acc   top5_acc: 100%|██████████| 57/57 [00:11<00:00,  5.12it/s]"
          ]
        },
        {
          "output_type": "stream",
          "name": "stdout",
          "text": [
            "                   all      0.945      0.998\n"
          ]
        },
        {
          "output_type": "stream",
          "name": "stderr",
          "text": [
            "\n"
          ]
        },
        {
          "output_type": "stream",
          "name": "stdout",
          "text": [
            "\n",
            "      Epoch    GPU_mem       loss  Instances       Size\n"
          ]
        },
        {
          "output_type": "stream",
          "name": "stderr",
          "text": [
            "      16/20     0.396G     0.1522         16        224: 100%|██████████| 450/450 [01:05<00:00,  6.91it/s]\n",
            "               classes   top1_acc   top5_acc: 100%|██████████| 57/57 [00:11<00:00,  5.02it/s]"
          ]
        },
        {
          "output_type": "stream",
          "name": "stdout",
          "text": [
            "                   all      0.944      0.998\n"
          ]
        },
        {
          "output_type": "stream",
          "name": "stderr",
          "text": [
            "\n"
          ]
        },
        {
          "output_type": "stream",
          "name": "stdout",
          "text": [
            "\n",
            "      Epoch    GPU_mem       loss  Instances       Size\n"
          ]
        },
        {
          "output_type": "stream",
          "name": "stderr",
          "text": [
            "      17/20     0.404G     0.1417         16        224: 100%|██████████| 450/450 [01:05<00:00,  6.88it/s]\n",
            "               classes   top1_acc   top5_acc: 100%|██████████| 57/57 [00:10<00:00,  5.44it/s]"
          ]
        },
        {
          "output_type": "stream",
          "name": "stdout",
          "text": [
            "                   all      0.944      0.998\n"
          ]
        },
        {
          "output_type": "stream",
          "name": "stderr",
          "text": [
            "\n"
          ]
        },
        {
          "output_type": "stream",
          "name": "stdout",
          "text": [
            "\n",
            "      Epoch    GPU_mem       loss  Instances       Size\n"
          ]
        },
        {
          "output_type": "stream",
          "name": "stderr",
          "text": [
            "      18/20     0.412G     0.1314         16        224: 100%|██████████| 450/450 [01:05<00:00,  6.92it/s]\n",
            "               classes   top1_acc   top5_acc: 100%|██████████| 57/57 [00:11<00:00,  5.16it/s]"
          ]
        },
        {
          "output_type": "stream",
          "name": "stdout",
          "text": [
            "                   all      0.944      0.997\n"
          ]
        },
        {
          "output_type": "stream",
          "name": "stderr",
          "text": [
            "\n"
          ]
        },
        {
          "output_type": "stream",
          "name": "stdout",
          "text": [
            "\n",
            "      Epoch    GPU_mem       loss  Instances       Size\n"
          ]
        },
        {
          "output_type": "stream",
          "name": "stderr",
          "text": [
            "      19/20     0.422G     0.1142         16        224: 100%|██████████| 450/450 [01:05<00:00,  6.88it/s]\n",
            "               classes   top1_acc   top5_acc: 100%|██████████| 57/57 [00:11<00:00,  5.07it/s]"
          ]
        },
        {
          "output_type": "stream",
          "name": "stdout",
          "text": [
            "                   all      0.944      0.997\n"
          ]
        },
        {
          "output_type": "stream",
          "name": "stderr",
          "text": [
            "\n"
          ]
        },
        {
          "output_type": "stream",
          "name": "stdout",
          "text": [
            "\n",
            "      Epoch    GPU_mem       loss  Instances       Size\n"
          ]
        },
        {
          "output_type": "stream",
          "name": "stderr",
          "text": [
            "      20/20      0.43G     0.1155         16        224: 100%|██████████| 450/450 [01:05<00:00,  6.87it/s]\n",
            "               classes   top1_acc   top5_acc: 100%|██████████| 57/57 [00:11<00:00,  5.05it/s]"
          ]
        },
        {
          "output_type": "stream",
          "name": "stdout",
          "text": [
            "                   all      0.948      0.998\n"
          ]
        },
        {
          "output_type": "stream",
          "name": "stderr",
          "text": [
            "\n"
          ]
        },
        {
          "output_type": "stream",
          "name": "stdout",
          "text": [
            "\n",
            "20 epochs completed in 0.427 hours.\n",
            "Optimizer stripped from runs/classify/train_balanced/weights/last.pt, 3.0MB\n",
            "Optimizer stripped from runs/classify/train_balanced/weights/best.pt, 3.0MB\n",
            "\n",
            "Validating runs/classify/train_balanced/weights/best.pt...\n",
            "Ultralytics 8.3.153 🚀 Python-3.11.13 torch-2.6.0+cu124 CUDA:0 (Tesla T4, 15095MiB)\n",
            "YOLOv8n-cls summary (fused): 30 layers, 1,447,690 parameters, 0 gradients, 3.3 GFLOPs\n",
            "WARNING ⚠️ Dataset 'split=train' not found at /content/dataset/balanced_dataset/train\n",
            "Found 9000 images in subdirectories. Attempting to split...\n",
            "Splitting /content/dataset/balanced_dataset (10 classes, 9000 images) into 80% train, 20% val...\n",
            "Split complete in /content/dataset/balanced_dataset_split ✅\n",
            "\u001b[34m\u001b[1mtrain:\u001b[0m /content/dataset/balanced_dataset_split/train... found 8643 images in 10 classes ✅ \n",
            "\u001b[34m\u001b[1mval:\u001b[0m /content/dataset/balanced_dataset_split/val... found 3243 images in 10 classes ✅ \n",
            "\u001b[34m\u001b[1mtest:\u001b[0m None...\n"
          ]
        },
        {
          "output_type": "stream",
          "name": "stderr",
          "text": [
            "               classes   top1_acc   top5_acc: 100%|██████████| 57/57 [00:11<00:00,  5.14it/s]\n"
          ]
        },
        {
          "output_type": "stream",
          "name": "stdout",
          "text": [
            "                   all      0.948      0.998\n",
            "Speed: 0.1ms preprocess, 0.4ms inference, 0.0ms loss, 0.0ms postprocess per image\n",
            "Results saved to \u001b[1mruns/classify/train_balanced\u001b[0m\n"
          ]
        },
        {
          "output_type": "execute_result",
          "data": {
            "text/plain": [
              "ultralytics.utils.metrics.ClassifyMetrics object with attributes:\n",
              "\n",
              "confusion_matrix: <ultralytics.utils.metrics.ConfusionMatrix object at 0x7a87c391a690>\n",
              "curves: []\n",
              "curves_results: []\n",
              "fitness: 0.9727777540683746\n",
              "keys: ['metrics/accuracy_top1', 'metrics/accuracy_top5']\n",
              "results_dict: {'metrics/accuracy_top1': 0.9477777481079102, 'metrics/accuracy_top5': 0.9977777600288391, 'fitness': 0.9727777540683746}\n",
              "save_dir: PosixPath('runs/classify/train_balanced')\n",
              "speed: {'preprocess': 0.07911533166634399, 'inference': 0.3747842277769248, 'loss': 0.00034871111135241034, 'postprocess': 0.0033407538899155043}\n",
              "task: 'classify'\n",
              "top1: 0.9477777481079102\n",
              "top5: 0.9977777600288391"
            ]
          },
          "metadata": {},
          "execution_count": 13
        }
      ],
      "source": [
        "model = YOLO('yolov8n-cls.pt')\n",
        "model.train(\n",
        "    data='/content/dataset/balanced_dataset',\n",
        "    epochs=20,\n",
        "    imgsz=224,\n",
        "    name='train_balanced'\n",
        ")"
      ]
    },
    {
      "cell_type": "code",
      "source": [
        "# Muat model hasil training\n",
        "model = YOLO('/content/runs/classify/train_balanced/weights/best.pt')\n",
        "\n",
        "# Evaluasi model pada dataset validasi\n",
        "metrics = model.val(data='/content/dataset/balanced_dataset_split', imgsz=224)\n",
        "\n",
        "# Cetak metrik yang valid untuk klasifikasi\n",
        "print(\"Top-1 Accuracy:\", metrics.top1)\n",
        "print(\"Top-5 Accuracy:\", metrics.top5)\n",
        "print(\"Kecepatan (ms per image):\", metrics.speed)"
      ],
      "metadata": {
        "id": "WljG607qvXSP",
        "collapsed": true,
        "colab": {
          "base_uri": "https://localhost:8080/"
        },
        "outputId": "1f50080b-530a-42a0-e032-60ed0f3add1b"
      },
      "execution_count": 14,
      "outputs": [
        {
          "output_type": "stream",
          "name": "stdout",
          "text": [
            "Ultralytics 8.3.153 🚀 Python-3.11.13 torch-2.6.0+cu124 CUDA:0 (Tesla T4, 15095MiB)\n",
            "YOLOv8n-cls summary (fused): 30 layers, 1,447,690 parameters, 0 gradients, 3.3 GFLOPs\n",
            "\u001b[34m\u001b[1mtrain:\u001b[0m /content/dataset/balanced_dataset_split/train... found 8643 images in 10 classes ✅ \n",
            "\u001b[34m\u001b[1mval:\u001b[0m /content/dataset/balanced_dataset_split/val... found 3243 images in 10 classes ✅ \n",
            "\u001b[34m\u001b[1mtest:\u001b[0m None...\n",
            "\u001b[34m\u001b[1mval: \u001b[0mFast image access ✅ (ping: 0.0±0.0 ms, read: 1664.6±484.9 MB/s, size: 46.9 KB)\n"
          ]
        },
        {
          "output_type": "stream",
          "name": "stderr",
          "text": [
            "\u001b[34m\u001b[1mval: \u001b[0mScanning /content/dataset/balanced_dataset_split/val... 3243 images, 0 corrupt: 100%|██████████| 3243/3243 [00:00<00:00, 5388.01it/s]"
          ]
        },
        {
          "output_type": "stream",
          "name": "stdout",
          "text": [
            "\u001b[34m\u001b[1mval: \u001b[0mNew cache created: /content/dataset/balanced_dataset_split/val.cache\n"
          ]
        },
        {
          "output_type": "stream",
          "name": "stderr",
          "text": [
            "\n",
            "               classes   top1_acc   top5_acc: 100%|██████████| 203/203 [00:21<00:00,  9.31it/s]\n"
          ]
        },
        {
          "output_type": "stream",
          "name": "stdout",
          "text": [
            "                   all       0.97      0.999\n",
            "Speed: 0.1ms preprocess, 0.6ms inference, 0.0ms loss, 0.0ms postprocess per image\n",
            "Results saved to \u001b[1mruns/classify/val\u001b[0m\n",
            "Top-1 Accuracy: 0.9703977704048157\n",
            "Top-5 Accuracy: 0.9990749359130859\n",
            "Kecepatan (ms per image): {'preprocess': 0.08636964323191162, 'inference': 0.5886684628436092, 'loss': 0.001654009867587447, 'postprocess': 0.004047272587781961}\n"
          ]
        }
      ]
    },
    {
      "cell_type": "markdown",
      "source": [
        "#Menghitung Score"
      ],
      "metadata": {
        "id": "Wm341Asa3A6o"
      }
    },
    {
      "cell_type": "code",
      "source": [
        "from ultralytics import YOLO\n",
        "from pathlib import Path\n",
        "from PIL import Image\n",
        "import numpy as np\n",
        "from sklearn.metrics import classification_report, confusion_matrix\n",
        "\n",
        "# Muat model\n",
        "model = YOLO('/content/runs/classify/train_balanced/weights/best.pt')\n",
        "\n",
        "# Path ke folder validasi\n",
        "val_dir = Path('/content/dataset/balanced_dataset_split/val')\n",
        "\n",
        "# Ambil nama kelas berdasarkan folder\n",
        "class_names = sorted([d.name for d in val_dir.iterdir() if d.is_dir()])\n",
        "\n",
        "# Simpan label asli dan prediksi\n",
        "y_true, y_pred = [], []\n",
        "\n",
        "for label_idx, class_name in enumerate(class_names):\n",
        "    img_paths = list((val_dir / class_name).glob('*'))\n",
        "    for img_path in img_paths:\n",
        "        img = Image.open(img_path).convert('RGB')\n",
        "        results = model.predict(img, imgsz=224, verbose=False)\n",
        "        pred_idx = int(np.argmax(results[0].probs.data.cpu().numpy()))\n",
        "\n",
        "        y_true.append(label_idx)\n",
        "        y_pred.append(pred_idx)\n",
        "\n",
        "# Hitung metrik klasifikasi\n",
        "print(\"\\n=== Classification Report ===\")\n",
        "print(classification_report(y_true, y_pred, target_names=class_names))\n",
        "\n",
        "# Matriks kebingungan\n",
        "print(\"=== Confusion Matrix ===\")\n",
        "print(confusion_matrix(y_true, y_pred))"
      ],
      "metadata": {
        "id": "vcYc8CM0cNuJ",
        "colab": {
          "base_uri": "https://localhost:8080/"
        },
        "outputId": "a53eb6da-6a20-48ca-a5e2-aa9fa0476811"
      },
      "execution_count": 15,
      "outputs": [
        {
          "output_type": "stream",
          "name": "stdout",
          "text": [
            "\n",
            "=== Classification Report ===\n",
            "              precision    recall  f1-score   support\n",
            "\n",
            "     battery       0.98      0.99      0.98       326\n",
            "  biological       0.99      0.98      0.99       327\n",
            "   cardboard       0.97      0.97      0.97       322\n",
            "     clothes       0.99      0.99      0.99       319\n",
            "       glass       0.97      0.94      0.96       320\n",
            "       metal       0.94      0.96      0.95       320\n",
            "       paper       0.98      0.96      0.97       332\n",
            "     plastic       0.97      0.95      0.96       326\n",
            "       shoes       0.96      0.99      0.98       327\n",
            "       trash       0.96      0.97      0.97       324\n",
            "\n",
            "    accuracy                           0.97      3243\n",
            "   macro avg       0.97      0.97      0.97      3243\n",
            "weighted avg       0.97      0.97      0.97      3243\n",
            "\n",
            "=== Confusion Matrix ===\n",
            "[[323   0   1   0   0   1   1   0   0   0]\n",
            " [  0 322   0   0   0   1   1   0   3   0]\n",
            " [  1   0 311   0   0   1   5   0   2   2]\n",
            " [  0   0   0 316   0   0   0   0   3   0]\n",
            " [  0   1   1   0 301   7   0   7   1   2]\n",
            " [  3   0   1   0   3 307   0   3   1   2]\n",
            " [  0   0   7   1   0   2 319   0   1   2]\n",
            " [  0   2   0   0   4   6   1 309   0   4]\n",
            " [  0   1   0   2   0   0   0   0 324   0]\n",
            " [  3   0   0   0   2   2   0   1   1 315]]\n"
          ]
        }
      ]
    },
    {
      "cell_type": "code",
      "source": [
        "import seaborn as sns\n",
        "import matplotlib.pyplot as plt\n",
        "from sklearn.metrics import confusion_matrix\n",
        "\n",
        "# Hitung confusion matrix\n",
        "cm = confusion_matrix(y_true, y_pred)\n",
        "\n",
        "# Plot\n",
        "plt.figure(figsize=(10, 8))\n",
        "sns.heatmap(cm, annot=True, fmt='d', cmap='Blues', xticklabels=class_names, yticklabels=class_names)\n",
        "plt.xlabel('Predicted Labels')\n",
        "plt.ylabel('True Labels')\n",
        "plt.title('Confusion Matrix')\n",
        "plt.xticks(rotation=45)\n",
        "plt.yticks(rotation=0)\n",
        "plt.tight_layout()\n",
        "plt.show()"
      ],
      "metadata": {
        "id": "pEQT6INGdmrn",
        "colab": {
          "base_uri": "https://localhost:8080/",
          "height": 807
        },
        "outputId": "cfe55691-4799-41e6-f302-12ff331599ab"
      },
      "execution_count": 16,
      "outputs": [
        {
          "output_type": "display_data",
          "data": {
            "text/plain": [
              "<Figure size 1000x800 with 2 Axes>"
            ],
            "image/png": "[encoded data removed]"
          },
          "metadata": {}
        }
      ]
    },
    {
      "cell_type": "code",
      "source": [
        "from google.colab import files\n",
        "from ultralytics import YOLO\n",
        "\n",
        "# Upload gambar\n",
        "uploaded = files.upload()\n",
        "\n",
        "# Ambil path gambar\n",
        "for filename in uploaded.keys():\n",
        "    image_path = filename\n",
        "\n",
        "# Load model\n",
        "model = YOLO('runs/classify/train_balanced/weights/best.pt')\n",
        "\n",
        "# Prediksi gambar\n",
        "results = model(image_path)\n",
        "\n",
        "# Tampilkan hasil prediksi\n",
        "results[0].show()  # akses elemen pertama dari list dan tampilkan hasil prediksi\n",
        "\n",
        "# Tampilkan kelas prediksi teratas\n",
        "top_idx = results[0].probs.top1\n",
        "top_name = results[0].names[top_idx]\n",
        "print(f\"\\nPrediksi utama: {top_name}\")"
      ],
      "metadata": {
        "id": "gNjok-yrZ-Qn",
        "colab": {
          "base_uri": "https://localhost:8080/",
          "height": 376
        },
        "outputId": "a0d2b5fc-1fbc-419b-9977-9eab63e02b55"
      },
      "execution_count": 17,
      "outputs": [
        {
          "output_type": "display_data",
          "data": {
            "text/plain": [
              "<IPython.core.display.HTML object>"
            ],
            "text/html": [
              "\n",
              "     <input type=\"file\" id=\"files-e1f141b5-b00d-4be1-9948-2a4d4d2f101b\" name=\"files[]\" multiple disabled\n",
              "        style=\"border:none\" />\n",
              "     <output id=\"result-e1f141b5-b00d-4be1-9948-2a4d4d2f101b\">\n",
              "      Upload widget is only available when the cell has been executed in the\n",
              "      current browser session. Please rerun this cell to enable.\n",
              "      </output>\n",
              "      <script>// Copyright 2017 Google LLC\n",
              "//\n",
              "// Licensed under the Apache License, Version 2.0 (the \"License\");\n",
              "// you may not use this file except in compliance with the License.\n",
              "// You may obtain a copy of the License at\n",
              "//\n",
              "//      http://www.apache.org/licenses/LICENSE-2.0\n",
              "//\n",
              "// Unless required by applicable law or agreed to in writing, software\n",
              "// distributed under the License is distributed on an \"AS IS\" BASIS,\n",
              "// WITHOUT WARRANTIES OR CONDITIONS OF ANY KIND, either express or implied.\n",
              "// See the License for the specific language governing permissions and\n",
              "// limitations under the License.\n",
              "\n",
              "/**\n",
              " * @fileoverview Helpers for google.colab Python module.\n",
              " */\n",
              "(function(scope) {\n",
              "function span(text, styleAttributes = {}) {\n",
              "  const element = document.createElement('span');\n",
              "  element.textContent = text;\n",
              "  for (const key of Object.keys(styleAttributes)) {\n",
              "    element.style[key] = styleAttributes[key];\n",
              "  }\n",
              "  return element;\n",
              "}\n",
              "\n",
              "// Max number of bytes which will be uploaded at a time.\n",
              "const MAX_PAYLOAD_SIZE = 100 * 1024;\n",
              "\n",
              "function _uploadFiles(inputId, outputId) {\n",
              "  const steps = uploadFilesStep(inputId, outputId);\n",
              "  const outputElement = document.getElementById(outputId);\n",
              "  // Cache steps on the outputElement to make it available for the next call\n",
              "  // to uploadFilesContinue from Python.\n",
              "  outputElement.steps = steps;\n",
              "\n",
              "  return _uploadFilesContinue(outputId);\n",
              "}\n",
              "\n",
              "// This is roughly an async generator (not supported in the browser yet),\n",
              "// where there are multiple asynchronous steps and the Python side is going\n",
              "// to poll for completion of each step.\n",
              "// This uses a Promise to block the python side on completion of each step,\n",
              "// then passes the result of the previous step as the input to the next step.\n",
              "function _uploadFilesContinue(outputId) {\n",
              "  const outputElement = document.getElementById(outputId);\n",
              "  const steps = outputElement.steps;\n",
              "\n",
              "  const next = steps.next(outputElement.lastPromiseValue);\n",
              "  return Promise.resolve(next.value.promise).then((value) => {\n",
              "    // Cache the last promise value to make it available to the next\n",
              "    // step of the generator.\n",
              "    outputElement.lastPromiseValue = value;\n",
              "    return next.value.response;\n",
              "  });\n",
              "}\n",
              "\n",
              "/**\n",
              " * Generator function which is called between each async step of the upload\n",
              " * process.\n",
              " * @param {string} inputId Element ID of the input file picker element.\n",
              " * @param {string} outputId Element ID of the output display.\n",
              " * @return {!Iterable<!Object>} Iterable of next steps.\n",
              " */\n",
              "function* uploadFilesStep(inputId, outputId) {\n",
              "  const inputElement = document.getElementById(inputId);\n",
              "  inputElement.disabled = false;\n",
              "\n",
              "  const outputElement = document.getElementById(outputId);\n",
              "  outputElement.innerHTML = '';\n",
              "\n",
              "  const pickedPromise = new Promise((resolve) => {\n",
              "    inputElement.addEventListener('change', (e) => {\n",
              "      resolve(e.target.files);\n",
              "    });\n",
              "  });\n",
              "\n",
              "  const cancel = document.createElement('button');\n",
              "  inputElement.parentElement.appendChild(cancel);\n",
              "  cancel.textContent = 'Cancel upload';\n",
              "  const cancelPromise = new Promise((resolve) => {\n",
              "    cancel.onclick = () => {\n",
              "      resolve(null);\n",
              "    };\n",
              "  });\n",
              "\n",
              "  // Wait for the user to pick the files.\n",
              "  const files = yield {\n",
              "    promise: Promise.race([pickedPromise, cancelPromise]),\n",
              "    response: {\n",
              "      action: 'starting',\n",
              "    }\n",
              "  };\n",
              "\n",
              "  cancel.remove();\n",
              "\n",
              "  // Disable the input element since further picks are not allowed.\n",
              "  inputElement.disabled = true;\n",
              "\n",
              "  if (!files) {\n",
              "    return {\n",
              "      response: {\n",
              "        action: 'complete',\n",
              "      }\n",
              "    };\n",
              "  }\n",
              "\n",
              "  for (const file of files) {\n",
              "    const li = document.createElement('li');\n",
              "    li.append(span(file.name, {fontWeight: 'bold'}));\n",
              "    li.append(span(\n",
              "        `(${file.type || 'n/a'}) - ${file.size} bytes, ` +\n",
              "        `last modified: ${\n",
              "            file.lastModifiedDate ? file.lastModifiedDate.toLocaleDateString() :\n",
              "                                    'n/a'} - `));\n",
              "    const percent = span('0% done');\n",
              "    li.appendChild(percent);\n",
              "\n",
              "    outputElement.appendChild(li);\n",
              "\n",
              "    const fileDataPromise = new Promise((resolve) => {\n",
              "      const reader = new FileReader();\n",
              "      reader.onload = (e) => {\n",
              "        resolve(e.target.result);\n",
              "      };\n",
              "      reader.readAsArrayBuffer(file);\n",
              "    });\n",
              "    // Wait for the data to be ready.\n",
              "    let fileData = yield {\n",
              "      promise: fileDataPromise,\n",
              "      response: {\n",
              "        action: 'continue',\n",
              "      }\n",
              "    };\n",
              "\n",
              "    // Use a chunked sending to avoid message size limits. See b/62115660.\n",
              "    let position = 0;\n",
              "    do {\n",
              "      const length = Math.min(fileData.byteLength - position, MAX_PAYLOAD_SIZE);\n",
              "      const chunk = new Uint8Array(fileData, position, length);\n",
              "      position += length;\n",
              "\n",
              "      const base64 = btoa(String.fromCharCode.apply(null, chunk));\n",
              "      yield {\n",
              "        response: {\n",
              "          action: 'append',\n",
              "          file: file.name,\n",
              "          data: base64,\n",
              "        },\n",
              "      };\n",
              "\n",
              "      let percentDone = fileData.byteLength === 0 ?\n",
              "          100 :\n",
              "          Math.round((position / fileData.byteLength) * 100);\n",
              "      percent.textContent = `${percentDone}% done`;\n",
              "\n",
              "    } while (position < fileData.byteLength);\n",
              "  }\n",
              "\n",
              "  // All done.\n",
              "  yield {\n",
              "    response: {\n",
              "      action: 'complete',\n",
              "    }\n",
              "  };\n",
              "}\n",
              "\n",
              "scope.google = scope.google || {};\n",
              "scope.google.colab = scope.google.colab || {};\n",
              "scope.google.colab._files = {\n",
              "  _uploadFiles,\n",
              "  _uploadFilesContinue,\n",
              "};\n",
              "})(self);\n",
              "</script> "
            ]
          },
          "metadata": {}
        },
        {
          "output_type": "stream",
          "name": "stdout",
          "text": [
            "Saving images.jpg to images.jpg\n",
            "\n",
            "image 1/1 /content/images.jpg: 224x224 paper 0.66, cardboard 0.33, trash 0.01, battery 0.00, metal 0.00, 4.4ms\n",
            "Speed: 3.8ms preprocess, 4.4ms inference, 0.1ms postprocess per image at shape (1, 3, 224, 224)\n"
          ]
        },
        {
          "output_type": "display_data",
          "data": {
            "text/plain": [
              "<PIL.Image.Image image mode=RGB size=234x216>"
            ],
            "image/png": "[encoded data removed]",
            "image/jpeg": "[encoded data removed]"
          },
          "metadata": {}
        },
        {
          "output_type": "stream",
          "name": "stdout",
          "text": [
            "\n",
            "Prediksi utama: paper\n"
          ]
        }
      ]
    },
    {
      "cell_type": "code",
      "source": [
        "model = YOLO('runs/classify/train_balanced/weights/best.pt')  # load model terbaik\n",
        "model.save('my_final_model.pt')  # simpan ulang dengan nama yang kamu inginkan\n",
        "\n",
        "model.export(format='tflite')   # untuk TensorFlow Lite (.tflite)\n",
        "model.export(format='tfjs')     # untuk TensorFlow.js (.json + bin files)\n",
        "model.export(format='saved_model')  # menyimpan dalam format TensorFlow SavedModel"
      ],
      "metadata": {
        "id": "vWRUqy4P3og2",
        "colab": {
          "base_uri": "https://localhost:8080/",
          "height": 1000
        },
        "outputId": "1640948b-53e1-411c-f1f0-520f38c2e511"
      },
      "execution_count": 19,
      "outputs": [
        {
          "output_type": "stream",
          "name": "stdout",
          "text": [
            "Ultralytics 8.3.153 🚀 Python-3.11.13 torch-2.6.0+cu124 CPU (Intel Xeon 2.20GHz)\n",
            "YOLOv8n-cls summary (fused): 30 layers, 1,447,690 parameters, 0 gradients, 3.3 GFLOPs\n",
            "\n",
            "\u001b[34m\u001b[1mPyTorch:\u001b[0m starting from 'runs/classify/train_balanced/weights/best.pt' with input shape (1, 3, 224, 224) BCHW and output shape(s) (1, 10) (2.8 MB)\n",
            "\n",
            "\u001b[34m\u001b[1mTensorFlow SavedModel:\u001b[0m starting export with tensorflow 2.18.0...\n",
            "\n",
            "\u001b[34m\u001b[1mONNX:\u001b[0m starting export with onnx 1.17.0 opset 19...\n",
            "\u001b[34m\u001b[1mONNX:\u001b[0m slimming with onnxslim 0.1.57...\n",
            "\u001b[34m\u001b[1mONNX:\u001b[0m export success ✅ 0.8s, saved as 'runs/classify/train_balanced/weights/best.onnx' (5.5 MB)\n",
            "\u001b[34m\u001b[1mTensorFlow SavedModel:\u001b[0m starting TFLite export with onnx2tf 1.27.10...\n",
            "Saved artifact at 'runs/classify/train_balanced/weights/best_saved_model'. The following endpoints are available:\n",
            "\n",
            "* Endpoint 'serving_default'\n",
            "  inputs_0 (POSITIONAL_ONLY): TensorSpec(shape=(1, 224, 224, 3), dtype=tf.float32, name='images')\n",
            "Output Type:\n",
            "  TensorSpec(shape=(1, 10), dtype=tf.float32, name=None)\n",
            "Captures:\n",
            "  134723608830864: TensorSpec(shape=(4, 2), dtype=tf.int32, name=None)\n",
            "  134726685722192: TensorSpec(shape=(3, 3, 3, 16), dtype=tf.float32, name=None)\n",
            "  134723608831440: TensorSpec(shape=(16,), dtype=tf.float32, name=None)\n",
            "  134723517664912: TensorSpec(shape=(4, 2), dtype=tf.int32, name=None)\n",
            "  134723517663952: TensorSpec(shape=(3, 3, 16, 32), dtype=tf.float32, name=None)\n",
            "  134723517664144: TensorSpec(shape=(32,), dtype=tf.float32, name=None)\n",
            "  134723517664528: TensorSpec(shape=(1, 1, 32, 32), dtype=tf.float32, name=None)\n",
            "  134723517665104: TensorSpec(shape=(32,), dtype=tf.float32, name=None)\n",
            "  134723769544976: TensorSpec(shape=(4,), dtype=tf.int64, name=None)\n",
            "  134723769544400: TensorSpec(shape=(4,), dtype=tf.int64, name=None)\n",
            "  134723517664720: TensorSpec(shape=(3, 3, 16, 16), dtype=tf.float32, name=None)\n",
            "  134723517664336: TensorSpec(shape=(16,), dtype=tf.float32, name=None)\n",
            "  134723769545744: TensorSpec(shape=(3, 3, 16, 16), dtype=tf.float32, name=None)\n",
            "  134723769546320: TensorSpec(shape=(16,), dtype=tf.float32, name=None)\n",
            "  134723769545168: TensorSpec(shape=(4,), dtype=tf.int64, name=None)\n",
            "  134723769545360: TensorSpec(shape=(4,), dtype=tf.int64, name=None)\n",
            "  134723769544592: TensorSpec(shape=(1, 1, 48, 32), dtype=tf.float32, name=None)\n",
            "  134723769544784: TensorSpec(shape=(32,), dtype=tf.float32, name=None)\n",
            "  134723709376784: TensorSpec(shape=(4, 2), dtype=tf.int32, name=None)\n",
            "  134723779403728: TensorSpec(shape=(3, 3, 32, 64), dtype=tf.float32, name=None)\n",
            "  134723709377168: TensorSpec(shape=(64,), dtype=tf.float32, name=None)\n",
            "  134723709376016: TensorSpec(shape=(1, 1, 64, 64), dtype=tf.float32, name=None)\n",
            "  134723709376976: TensorSpec(shape=(64,), dtype=tf.float32, name=None)\n",
            "  134723608824144: TensorSpec(shape=(4,), dtype=tf.int64, name=None)\n",
            "  134723608822224: TensorSpec(shape=(4,), dtype=tf.int64, name=None)\n",
            "  134723709376208: TensorSpec(shape=(3, 3, 32, 32), dtype=tf.float32, name=None)\n",
            "  134723709376592: TensorSpec(shape=(32,), dtype=tf.float32, name=None)\n",
            "  134723709375248: TensorSpec(shape=(3, 3, 32, 32), dtype=tf.float32, name=None)\n",
            "  134723608825872: TensorSpec(shape=(32,), dtype=tf.float32, name=None)\n",
            "  134723608824336: TensorSpec(shape=(3, 3, 32, 32), dtype=tf.float32, name=None)\n",
            "  134723608825680: TensorSpec(shape=(32,), dtype=tf.float32, name=None)\n",
            "  134723608822800: TensorSpec(shape=(3, 3, 32, 32), dtype=tf.float32, name=None)\n",
            "  134723608825488: TensorSpec(shape=(32,), dtype=tf.float32, name=None)\n",
            "  134723608822032: TensorSpec(shape=(4,), dtype=tf.int64, name=None)\n",
            "  134723608821840: TensorSpec(shape=(4,), dtype=tf.int64, name=None)\n",
            "  134723608823760: TensorSpec(shape=(1, 1, 128, 64), dtype=tf.float32, name=None)\n",
            "  134723608823568: TensorSpec(shape=(64,), dtype=tf.float32, name=None)\n",
            "  134723608826448: TensorSpec(shape=(4, 2), dtype=tf.int32, name=None)\n",
            "  134723608823376: TensorSpec(shape=(3, 3, 64, 128), dtype=tf.float32, name=None)\n",
            "  134723608824912: TensorSpec(shape=(128,), dtype=tf.float32, name=None)\n",
            "  134723608826256: TensorSpec(shape=(1, 1, 128, 128), dtype=tf.float32, name=None)\n",
            "  134723608824720: TensorSpec(shape=(128,), dtype=tf.float32, name=None)\n",
            "  134723608827216: TensorSpec(shape=(4,), dtype=tf.int64, name=None)\n",
            "  134723608826832: TensorSpec(shape=(4,), dtype=tf.int64, name=None)\n",
            "  134723608829904: TensorSpec(shape=(3, 3, 64, 64), dtype=tf.float32, name=None)\n",
            "  134723608830096: TensorSpec(shape=(64,), dtype=tf.float32, name=None)\n",
            "  134723608826064: TensorSpec(shape=(3, 3, 64, 64), dtype=tf.float32, name=None)\n",
            "  134723608826640: TensorSpec(shape=(64,), dtype=tf.float32, name=None)\n",
            "  134723608830480: TensorSpec(shape=(3, 3, 64, 64), dtype=tf.float32, name=None)\n",
            "  134723608830672: TensorSpec(shape=(64,), dtype=tf.float32, name=None)\n",
            "  134723608827408: TensorSpec(shape=(3, 3, 64, 64), dtype=tf.float32, name=None)\n",
            "  134723608828176: TensorSpec(shape=(64,), dtype=tf.float32, name=None)\n",
            "  134723608827792: TensorSpec(shape=(4,), dtype=tf.int64, name=None)\n",
            "  134723608827600: TensorSpec(shape=(4,), dtype=tf.int64, name=None)\n",
            "  134723608832400: TensorSpec(shape=(1, 1, 256, 128), dtype=tf.float32, name=None)\n",
            "  134723608831248: TensorSpec(shape=(128,), dtype=tf.float32, name=None)\n",
            "  134723608829712: TensorSpec(shape=(4, 2), dtype=tf.int32, name=None)\n",
            "  134723608827984: TensorSpec(shape=(3, 3, 128, 256), dtype=tf.float32, name=None)\n",
            "  134723608829328: TensorSpec(shape=(256,), dtype=tf.float32, name=None)\n",
            "  134723608829520: TensorSpec(shape=(1, 1, 256, 256), dtype=tf.float32, name=None)\n",
            "  134723608828368: TensorSpec(shape=(256,), dtype=tf.float32, name=None)\n",
            "  134723672995024: TensorSpec(shape=(4,), dtype=tf.int64, name=None)\n",
            "  134723672989072: TensorSpec(shape=(4,), dtype=tf.int64, name=None)\n",
            "  134723608825104: TensorSpec(shape=(3, 3, 128, 128), dtype=tf.float32, name=None)\n",
            "  134723608828944: TensorSpec(shape=(128,), dtype=tf.float32, name=None)\n",
            "  134723608824528: TensorSpec(shape=(3, 3, 128, 128), dtype=tf.float32, name=None)\n",
            "  134723608825296: TensorSpec(shape=(128,), dtype=tf.float32, name=None)\n",
            "  134723608823952: TensorSpec(shape=(4,), dtype=tf.int64, name=None)\n",
            "  134723672994448: TensorSpec(shape=(4,), dtype=tf.int64, name=None)\n",
            "  134723672994064: TensorSpec(shape=(1, 1, 384, 256), dtype=tf.float32, name=None)\n",
            "  134723672988688: TensorSpec(shape=(256,), dtype=tf.float32, name=None)\n",
            "  134723672996944: TensorSpec(shape=(1, 1, 256, 1280), dtype=tf.float32, name=None)\n",
            "  134723672988496: TensorSpec(shape=(1280,), dtype=tf.float32, name=None)\n",
            "  134723720914768: TensorSpec(shape=(1280, 10), dtype=tf.float32, name=None)\n",
            "  134723720915344: TensorSpec(shape=(), dtype=tf.float32, name=None)\n",
            "  134723720918800: TensorSpec(shape=(10,), dtype=tf.float32, name=None)\n",
            "\u001b[34m\u001b[1mTensorFlow SavedModel:\u001b[0m export success ✅ 7.6s, saved as 'runs/classify/train_balanced/weights/best_saved_model' (14.0 MB)\n",
            "\n",
            "\u001b[34m\u001b[1mTensorFlow Lite:\u001b[0m starting export with tensorflow 2.18.0...\n",
            "\u001b[34m\u001b[1mTensorFlow Lite:\u001b[0m export success ✅ 0.0s, saved as 'runs/classify/train_balanced/weights/best_saved_model/best_float32.tflite' (5.6 MB)\n",
            "\n",
            "Export complete (7.9s)\n",
            "Results saved to \u001b[1m/content/runs/classify/train_balanced/weights\u001b[0m\n",
            "Predict:         yolo predict task=classify model=runs/classify/train_balanced/weights/best_saved_model/best_float32.tflite imgsz=224  \n",
            "Validate:        yolo val task=classify model=runs/classify/train_balanced/weights/best_saved_model/best_float32.tflite imgsz=224 data=/content/dataset/balanced_dataset  \n",
            "Visualize:       https://netron.app\n",
            "Ultralytics 8.3.153 🚀 Python-3.11.13 torch-2.6.0+cu124 CPU (Intel Xeon 2.20GHz)\n",
            "YOLOv8n-cls summary (fused): 30 layers, 1,447,690 parameters, 0 gradients, 3.3 GFLOPs\n",
            "\n",
            "\u001b[34m\u001b[1mPyTorch:\u001b[0m starting from 'runs/classify/train_balanced/weights/best.pt' with input shape (1, 3, 224, 224) BCHW and output shape(s) (1, 10) (2.8 MB)\n",
            "\n",
            "\u001b[34m\u001b[1mTensorFlow SavedModel:\u001b[0m starting export with tensorflow 2.18.0...\n",
            "\n",
            "\u001b[34m\u001b[1mONNX:\u001b[0m starting export with onnx 1.17.0 opset 19...\n",
            "\u001b[34m\u001b[1mONNX:\u001b[0m slimming with onnxslim 0.1.57...\n",
            "\u001b[34m\u001b[1mONNX:\u001b[0m export success ✅ 0.4s, saved as 'runs/classify/train_balanced/weights/best.onnx' (5.5 MB)\n",
            "\u001b[34m\u001b[1mTensorFlow SavedModel:\u001b[0m starting TFLite export with onnx2tf 1.27.10...\n",
            "Saved artifact at 'runs/classify/train_balanced/weights/best_saved_model'. The following endpoints are available:\n",
            "\n",
            "* Endpoint 'serving_default'\n",
            "  inputs_0 (POSITIONAL_ONLY): TensorSpec(shape=(1, 224, 224, 3), dtype=tf.float32, name='images')\n",
            "Output Type:\n",
            "  TensorSpec(shape=(1, 10), dtype=tf.float32, name=None)\n",
            "Captures:\n",
            "  134723720918992: TensorSpec(shape=(4, 2), dtype=tf.int32, name=None)\n",
            "  134723720913424: TensorSpec(shape=(3, 3, 3, 16), dtype=tf.float32, name=None)\n",
            "  134723720917264: TensorSpec(shape=(16,), dtype=tf.float32, name=None)\n",
            "  134723720916496: TensorSpec(shape=(4, 2), dtype=tf.int32, name=None)\n",
            "  134723720915728: TensorSpec(shape=(3, 3, 16, 32), dtype=tf.float32, name=None)\n",
            "  134723720920336: TensorSpec(shape=(32,), dtype=tf.float32, name=None)\n",
            "  134723720916880: TensorSpec(shape=(1, 1, 32, 32), dtype=tf.float32, name=None)\n",
            "  134723720920720: TensorSpec(shape=(32,), dtype=tf.float32, name=None)\n",
            "  134723720919376: TensorSpec(shape=(4,), dtype=tf.int64, name=None)\n",
            "  134723720920528: TensorSpec(shape=(4,), dtype=tf.int64, name=None)\n",
            "  134723720916112: TensorSpec(shape=(3, 3, 16, 16), dtype=tf.float32, name=None)\n",
            "  134723720918032: TensorSpec(shape=(16,), dtype=tf.float32, name=None)\n",
            "  134723720917456: TensorSpec(shape=(3, 3, 16, 16), dtype=tf.float32, name=None)\n",
            "  134723720919568: TensorSpec(shape=(16,), dtype=tf.float32, name=None)\n",
            "  134723720915536: TensorSpec(shape=(4,), dtype=tf.int64, name=None)\n",
            "  134723720919760: TensorSpec(shape=(4,), dtype=tf.int64, name=None)\n",
            "  134723720918224: TensorSpec(shape=(1, 1, 48, 32), dtype=tf.float32, name=None)\n",
            "  134723720918608: TensorSpec(shape=(32,), dtype=tf.float32, name=None)\n",
            "  134723720915920: TensorSpec(shape=(4, 2), dtype=tf.int32, name=None)\n",
            "  134723720916304: TensorSpec(shape=(3, 3, 32, 64), dtype=tf.float32, name=None)\n",
            "  134723720919184: TensorSpec(shape=(64,), dtype=tf.float32, name=None)\n",
            "  134723720913808: TensorSpec(shape=(1, 1, 64, 64), dtype=tf.float32, name=None)\n",
            "  134723720906128: TensorSpec(shape=(64,), dtype=tf.float32, name=None)\n",
            "  134723720906896: TensorSpec(shape=(4,), dtype=tf.int64, name=None)\n",
            "  134723720905552: TensorSpec(shape=(4,), dtype=tf.int64, name=None)\n",
            "  134723720906512: TensorSpec(shape=(3, 3, 32, 32), dtype=tf.float32, name=None)\n",
            "  134723720907472: TensorSpec(shape=(32,), dtype=tf.float32, name=None)\n",
            "  134723720905936: TensorSpec(shape=(3, 3, 32, 32), dtype=tf.float32, name=None)\n",
            "  134723720906320: TensorSpec(shape=(32,), dtype=tf.float32, name=None)\n",
            "  134723720908432: TensorSpec(shape=(3, 3, 32, 32), dtype=tf.float32, name=None)\n",
            "  134723720907856: TensorSpec(shape=(32,), dtype=tf.float32, name=None)\n",
            "  134723720907280: TensorSpec(shape=(3, 3, 32, 32), dtype=tf.float32, name=None)\n",
            "  134723720908048: TensorSpec(shape=(32,), dtype=tf.float32, name=None)\n",
            "  134723720906704: TensorSpec(shape=(4,), dtype=tf.int64, name=None)\n",
            "  134723720907088: TensorSpec(shape=(4,), dtype=tf.int64, name=None)\n",
            "  134723720910736: TensorSpec(shape=(1, 1, 128, 64), dtype=tf.float32, name=None)\n",
            "  134723720910544: TensorSpec(shape=(64,), dtype=tf.float32, name=None)\n",
            "  134723720909200: TensorSpec(shape=(4, 2), dtype=tf.int32, name=None)\n",
            "  134723720908240: TensorSpec(shape=(3, 3, 64, 128), dtype=tf.float32, name=None)\n",
            "  134723720908624: TensorSpec(shape=(128,), dtype=tf.float32, name=None)\n",
            "  134723720909776: TensorSpec(shape=(1, 1, 128, 128), dtype=tf.float32, name=None)\n",
            "  134723720914000: TensorSpec(shape=(128,), dtype=tf.float32, name=None)\n",
            "  134723720909968: TensorSpec(shape=(4,), dtype=tf.int64, name=None)\n",
            "  134723720910160: TensorSpec(shape=(4,), dtype=tf.int64, name=None)\n",
            "  134723720914384: TensorSpec(shape=(3, 3, 64, 64), dtype=tf.float32, name=None)\n",
            "  134723720904976: TensorSpec(shape=(64,), dtype=tf.float32, name=None)\n",
            "  134723720913616: TensorSpec(shape=(3, 3, 64, 64), dtype=tf.float32, name=None)\n",
            "  134723720905744: TensorSpec(shape=(64,), dtype=tf.float32, name=None)\n",
            "  134723720905168: TensorSpec(shape=(3, 3, 64, 64), dtype=tf.float32, name=None)\n",
            "  134723596228496: TensorSpec(shape=(64,), dtype=tf.float32, name=None)\n",
            "  134723596223504: TensorSpec(shape=(3, 3, 64, 64), dtype=tf.float32, name=None)\n",
            "  134723596225040: TensorSpec(shape=(64,), dtype=tf.float32, name=None)\n",
            "  134723720909392: TensorSpec(shape=(4,), dtype=tf.int64, name=None)\n",
            "  134723720908816: TensorSpec(shape=(4,), dtype=tf.int64, name=None)\n",
            "  134723596231376: TensorSpec(shape=(1, 1, 256, 128), dtype=tf.float32, name=None)\n",
            "  134723596228688: TensorSpec(shape=(128,), dtype=tf.float32, name=None)\n",
            "  134723596231760: TensorSpec(shape=(4, 2), dtype=tf.int32, name=None)\n",
            "  134723596228304: TensorSpec(shape=(3, 3, 128, 256), dtype=tf.float32, name=None)\n",
            "  134723596229072: TensorSpec(shape=(256,), dtype=tf.float32, name=None)\n",
            "  134723596228880: TensorSpec(shape=(1, 1, 256, 256), dtype=tf.float32, name=None)\n",
            "  134723596229264: TensorSpec(shape=(256,), dtype=tf.float32, name=None)\n",
            "  134723596232144: TensorSpec(shape=(4,), dtype=tf.int64, name=None)\n",
            "  134723596230032: TensorSpec(shape=(4,), dtype=tf.int64, name=None)\n",
            "  134723596232528: TensorSpec(shape=(3, 3, 128, 128), dtype=tf.float32, name=None)\n",
            "  134723596232720: TensorSpec(shape=(128,), dtype=tf.float32, name=None)\n",
            "  134723596229456: TensorSpec(shape=(3, 3, 128, 128), dtype=tf.float32, name=None)\n",
            "  134723596223312: TensorSpec(shape=(128,), dtype=tf.float32, name=None)\n",
            "  134723596232336: TensorSpec(shape=(4,), dtype=tf.int64, name=None)\n",
            "  134723596230416: TensorSpec(shape=(4,), dtype=tf.int64, name=None)\n",
            "  134723596235984: TensorSpec(shape=(1, 1, 384, 256), dtype=tf.float32, name=None)\n",
            "  134723596234832: TensorSpec(shape=(256,), dtype=tf.float32, name=None)\n",
            "  134723596232912: TensorSpec(shape=(1, 1, 256, 1280), dtype=tf.float32, name=None)\n",
            "  134723596234256: TensorSpec(shape=(1280,), dtype=tf.float32, name=None)\n",
            "  134723596236368: TensorSpec(shape=(1280, 10), dtype=tf.float32, name=None)\n",
            "  134723596233296: TensorSpec(shape=(), dtype=tf.float32, name=None)\n",
            "  134723596236752: TensorSpec(shape=(10,), dtype=tf.float32, name=None)\n",
            "\u001b[34m\u001b[1mTensorFlow SavedModel:\u001b[0m export success ✅ 6.4s, saved as 'runs/classify/train_balanced/weights/best_saved_model' (14.0 MB)\n",
            "\n",
            "\u001b[34m\u001b[1mTensorFlow GraphDef:\u001b[0m starting export with tensorflow 2.18.0...\n",
            "\u001b[34m\u001b[1mTensorFlow GraphDef:\u001b[0m export success ✅ 0.8s, saved as 'runs/classify/train_balanced/weights/best.pb' (5.6 MB)\n",
            "\n",
            "\u001b[34m\u001b[1mTensorFlow.js:\u001b[0m starting export with tensorflowjs 4.22.0...\n",
            "\n",
            "\u001b[34m\u001b[1mTensorFlow.js:\u001b[0m output node names: Identity:0\n",
            "\u001b[34m\u001b[1mTensorFlow.js:\u001b[0m running 'tensorflowjs_converter --input_format=tf_frozen_model  --output_node_names=Identity:0 \"runs/classify/train_balanced/weights/best.pb\" \"runs/classify/train_balanced/weights/best_web_model\"'\n",
            "\u001b[34m\u001b[1mTensorFlow.js:\u001b[0m export success ✅ 4.3s, saved as 'runs/classify/train_balanced/weights/best_web_model' (5.6 MB)\n",
            "\n",
            "Export complete (11.6s)\n",
            "Results saved to \u001b[1m/content/runs/classify/train_balanced/weights\u001b[0m\n",
            "Predict:         yolo predict task=classify model=runs/classify/train_balanced/weights/best_web_model imgsz=224  \n",
            "Validate:        yolo val task=classify model=runs/classify/train_balanced/weights/best_web_model imgsz=224 data=/content/dataset/balanced_dataset  \n",
            "Visualize:       https://netron.app\n",
            "Ultralytics 8.3.153 🚀 Python-3.11.13 torch-2.6.0+cu124 CPU (Intel Xeon 2.20GHz)\n",
            "YOLOv8n-cls summary (fused): 30 layers, 1,447,690 parameters, 0 gradients, 3.3 GFLOPs\n",
            "\n",
            "\u001b[34m\u001b[1mPyTorch:\u001b[0m starting from 'runs/classify/train_balanced/weights/best.pt' with input shape (1, 3, 224, 224) BCHW and output shape(s) (1, 10) (2.8 MB)\n",
            "\n",
            "\u001b[34m\u001b[1mTensorFlow SavedModel:\u001b[0m starting export with tensorflow 2.18.0...\n",
            "\n",
            "\u001b[34m\u001b[1mONNX:\u001b[0m starting export with onnx 1.17.0 opset 19...\n",
            "\u001b[34m\u001b[1mONNX:\u001b[0m slimming with onnxslim 0.1.57...\n",
            "\u001b[34m\u001b[1mONNX:\u001b[0m export success ✅ 0.4s, saved as 'runs/classify/train_balanced/weights/best.onnx' (5.5 MB)\n",
            "\u001b[34m\u001b[1mTensorFlow SavedModel:\u001b[0m starting TFLite export with onnx2tf 1.27.10...\n",
            "Saved artifact at 'runs/classify/train_balanced/weights/best_saved_model'. The following endpoints are available:\n",
            "\n",
            "* Endpoint 'serving_default'\n",
            "  inputs_0 (POSITIONAL_ONLY): TensorSpec(shape=(1, 224, 224, 3), dtype=tf.float32, name='images')\n",
            "Output Type:\n",
            "  TensorSpec(shape=(1, 10), dtype=tf.float32, name=None)\n",
            "Captures:\n",
            "  134723596233680: TensorSpec(shape=(4, 2), dtype=tf.int32, name=None)\n",
            "  134723596236944: TensorSpec(shape=(3, 3, 3, 16), dtype=tf.float32, name=None)\n",
            "  134723596238672: TensorSpec(shape=(16,), dtype=tf.float32, name=None)\n",
            "  134723596236176: TensorSpec(shape=(4, 2), dtype=tf.int32, name=None)\n",
            "  134723596235024: TensorSpec(shape=(3, 3, 16, 32), dtype=tf.float32, name=None)\n",
            "  134723596234448: TensorSpec(shape=(32,), dtype=tf.float32, name=None)\n",
            "  134723596233872: TensorSpec(shape=(1, 1, 32, 32), dtype=tf.float32, name=None)\n",
            "  134723596237520: TensorSpec(shape=(32,), dtype=tf.float32, name=None)\n",
            "  134723596238096: TensorSpec(shape=(4,), dtype=tf.int64, name=None)\n",
            "  134723596237136: TensorSpec(shape=(4,), dtype=tf.int64, name=None)\n",
            "  134723596237904: TensorSpec(shape=(3, 3, 16, 16), dtype=tf.float32, name=None)\n",
            "  134723596223696: TensorSpec(shape=(16,), dtype=tf.float32, name=None)\n",
            "  134723596238480: TensorSpec(shape=(3, 3, 16, 16), dtype=tf.float32, name=None)\n",
            "  134723596235792: TensorSpec(shape=(16,), dtype=tf.float32, name=None)\n",
            "  134723596238288: TensorSpec(shape=(4,), dtype=tf.int64, name=None)\n",
            "  134723596235216: TensorSpec(shape=(4,), dtype=tf.int64, name=None)\n",
            "  134723596224464: TensorSpec(shape=(1, 1, 48, 32), dtype=tf.float32, name=None)\n",
            "  134723596224080: TensorSpec(shape=(32,), dtype=tf.float32, name=None)\n",
            "  134723596230800: TensorSpec(shape=(4, 2), dtype=tf.int32, name=None)\n",
            "  134723596234640: TensorSpec(shape=(3, 3, 32, 64), dtype=tf.float32, name=None)\n",
            "  134723596231568: TensorSpec(shape=(64,), dtype=tf.float32, name=None)\n",
            "  134723596227536: TensorSpec(shape=(1, 1, 64, 64), dtype=tf.float32, name=None)\n",
            "  134723596226576: TensorSpec(shape=(64,), dtype=tf.float32, name=None)\n",
            "  134723769542672: TensorSpec(shape=(4,), dtype=tf.int64, name=None)\n",
            "  134723769547088: TensorSpec(shape=(4,), dtype=tf.int64, name=None)\n",
            "  134723596227920: TensorSpec(shape=(3, 3, 32, 32), dtype=tf.float32, name=None)\n",
            "  134723596228112: TensorSpec(shape=(32,), dtype=tf.float32, name=None)\n",
            "  134723596226768: TensorSpec(shape=(3, 3, 32, 32), dtype=tf.float32, name=None)\n",
            "  134723596227152: TensorSpec(shape=(32,), dtype=tf.float32, name=None)\n",
            "  134723769548432: TensorSpec(shape=(3, 3, 32, 32), dtype=tf.float32, name=None)\n",
            "  134723769548240: TensorSpec(shape=(32,), dtype=tf.float32, name=None)\n",
            "  134723596236560: TensorSpec(shape=(3, 3, 32, 32), dtype=tf.float32, name=None)\n",
            "  134723596237712: TensorSpec(shape=(32,), dtype=tf.float32, name=None)\n",
            "  134723596226960: TensorSpec(shape=(4,), dtype=tf.int64, name=None)\n",
            "  134723596225232: TensorSpec(shape=(4,), dtype=tf.int64, name=None)\n",
            "  134723596231376: TensorSpec(shape=(1, 1, 128, 64), dtype=tf.float32, name=None)\n",
            "  134723596225040: TensorSpec(shape=(64,), dtype=tf.float32, name=None)\n",
            "  134723596228688: TensorSpec(shape=(4, 2), dtype=tf.int32, name=None)\n",
            "  134723596223504: TensorSpec(shape=(3, 3, 64, 128), dtype=tf.float32, name=None)\n",
            "  134723596228496: TensorSpec(shape=(128,), dtype=tf.float32, name=None)\n",
            "  134723596231760: TensorSpec(shape=(1, 1, 128, 128), dtype=tf.float32, name=None)\n",
            "  134723596229072: TensorSpec(shape=(128,), dtype=tf.float32, name=None)\n",
            "  134723596232144: TensorSpec(shape=(4,), dtype=tf.int64, name=None)\n",
            "  134723596229264: TensorSpec(shape=(4,), dtype=tf.int64, name=None)\n",
            "  134723596229456: TensorSpec(shape=(3, 3, 64, 64), dtype=tf.float32, name=None)\n",
            "  134723596234256: TensorSpec(shape=(64,), dtype=tf.float32, name=None)\n",
            "  134723596228880: TensorSpec(shape=(3, 3, 64, 64), dtype=tf.float32, name=None)\n",
            "  134723596228304: TensorSpec(shape=(64,), dtype=tf.float32, name=None)\n",
            "  134723596233296: TensorSpec(shape=(3, 3, 64, 64), dtype=tf.float32, name=None)\n",
            "  134723596236368: TensorSpec(shape=(64,), dtype=tf.float32, name=None)\n",
            "  134723596223312: TensorSpec(shape=(3, 3, 64, 64), dtype=tf.float32, name=None)\n",
            "  134723596230416: TensorSpec(shape=(64,), dtype=tf.float32, name=None)\n",
            "  134723596230032: TensorSpec(shape=(4,), dtype=tf.int64, name=None)\n",
            "  134723596232528: TensorSpec(shape=(4,), dtype=tf.int64, name=None)\n",
            "  134723596233488: TensorSpec(shape=(1, 1, 256, 128), dtype=tf.float32, name=None)\n",
            "  134723596237328: TensorSpec(shape=(128,), dtype=tf.float32, name=None)\n",
            "  134723596230608: TensorSpec(shape=(4, 2), dtype=tf.int32, name=None)\n",
            "  134723596236752: TensorSpec(shape=(3, 3, 128, 256), dtype=tf.float32, name=None)\n",
            "  134723596235984: TensorSpec(shape=(256,), dtype=tf.float32, name=None)\n",
            "  134723596233104: TensorSpec(shape=(1, 1, 256, 256), dtype=tf.float32, name=None)\n",
            "  134723596223120: TensorSpec(shape=(256,), dtype=tf.float32, name=None)\n",
            "  134723517665104: TensorSpec(shape=(4,), dtype=tf.int64, name=None)\n",
            "  134723517664336: TensorSpec(shape=(4,), dtype=tf.int64, name=None)\n",
            "  134723517664528: TensorSpec(shape=(3, 3, 128, 128), dtype=tf.float32, name=None)\n",
            "  134726685722192: TensorSpec(shape=(128,), dtype=tf.float32, name=None)\n",
            "  134723779403728: TensorSpec(shape=(3, 3, 128, 128), dtype=tf.float32, name=None)\n",
            "  134723596227344: TensorSpec(shape=(128,), dtype=tf.float32, name=None)\n",
            "  134723517664912: TensorSpec(shape=(4,), dtype=tf.int64, name=None)\n",
            "  134723517663952: TensorSpec(shape=(4,), dtype=tf.int64, name=None)\n",
            "  134723596235600: TensorSpec(shape=(1, 1, 384, 256), dtype=tf.float32, name=None)\n",
            "  134723596227728: TensorSpec(shape=(256,), dtype=tf.float32, name=None)\n",
            "  134723709376016: TensorSpec(shape=(1, 1, 256, 1280), dtype=tf.float32, name=None)\n",
            "  134723709376976: TensorSpec(shape=(1280,), dtype=tf.float32, name=None)\n",
            "  134723709376208: TensorSpec(shape=(1280, 10), dtype=tf.float32, name=None)\n",
            "  134723709375248: TensorSpec(shape=(), dtype=tf.float32, name=None)\n",
            "  134723720918992: TensorSpec(shape=(10,), dtype=tf.float32, name=None)\n",
            "\u001b[34m\u001b[1mTensorFlow SavedModel:\u001b[0m export success ✅ 7.0s, saved as 'runs/classify/train_balanced/weights/best_saved_model' (14.0 MB)\n",
            "\n",
            "Export complete (7.1s)\n",
            "Results saved to \u001b[1m/content/runs/classify/train_balanced/weights\u001b[0m\n",
            "Predict:         yolo predict task=classify model=runs/classify/train_balanced/weights/best_saved_model imgsz=224  \n",
            "Validate:        yolo val task=classify model=runs/classify/train_balanced/weights/best_saved_model imgsz=224 data=/content/dataset/balanced_dataset  \n",
            "Visualize:       https://netron.app\n"
          ]
        },
        {
          "output_type": "execute_result",
          "data": {
            "text/plain": [
              "'runs/classify/train_balanced/weights/best_saved_model'"
            ],
            "application/vnd.google.colaboratory.intrinsic+json": {
              "type": "string"
            }
          },
          "metadata": {},
          "execution_count": 19
        }
      ]
    }
  ],
  "metadata": {
    "accelerator": "GPU",
    "colab": {
      "gpuType": "T4",
      "provenance": []
    },
    "kernelspec": {
      "display_name": "Python 3",
      "name": "python3"
    },
    "language_info": {
      "name": "python"
    }
  },
  "nbformat": 4,
  "nbformat_minor": 0
}